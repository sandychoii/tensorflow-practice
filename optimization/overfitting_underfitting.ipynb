{
  "nbformat": 4,
  "nbformat_minor": 0,
  "metadata": {
    "colab": {
      "provenance": []
    },
    "kernelspec": {
      "name": "python3",
      "display_name": "Python 3"
    },
    "language_info": {
      "name": "python"
    }
  },
  "cells": [
    {
      "cell_type": "markdown",
      "source": [
        "## Overfitting/Underfitting"
      ],
      "metadata": {
        "id": "dQK4Lc7eqxaE"
      }
    },
    {
      "cell_type": "markdown",
      "source": [
        "![underover](https://meditationsonbianddatascience.files.wordpress.com/2017/05/fitgraph.jpg)\n",
        "\n",
        "- small dataset + large/complex network -> **overfitting**\n",
        "- large dataset + too simple network -> **underfitting** (cannot extract useful information)"
      ],
      "metadata": {
        "id": "yMYQBeQjqoOF"
      }
    },
    {
      "cell_type": "markdown",
      "source": [
        "## How to avoid overfitting\n",
        "- Collect more data\n",
        "- Data augmentation\n",
        "- Dropout (Simplifies the model)\n",
        "- Regularization (L2)\n",
        "- Early Stopping\n",
        "- Smaller network\n",
        "- Hyperparameter tuning (batch size - \"Training with large minibatches is bad for test error\"(Masters, 2018), dropout rate, regularization rate, learning rate)\n",
        "- Normalization"
      ],
      "metadata": {
        "id": "NGaVYM92rU9q"
      }
    },
    {
      "cell_type": "markdown",
      "source": [
        "### How to avoid underfitting\n",
        "- More model complexity\n",
        "- Collect more data\n",
        "- More training time\n",
        "- Hyperparameter tuning\n",
        "- Normalization"
      ],
      "metadata": {
        "id": "oOYa4jV-s6xz"
      }
    },
    {
      "cell_type": "markdown",
      "source": [
        "### Dropout\n",
        "\n",
        "https://www.tensorflow.org/api_docs/python/tf/keras/layers/Dropout\n",
        "\n",
        "### Regularization\n",
        "\n",
        "https://www.tensorflow.org/api_docs/python/tf/keras/regularizers/L2"
      ],
      "metadata": {
        "id": "cx-b1BFvtMUL"
      }
    },
    {
      "cell_type": "code",
      "source": [
        "import tensorflow as tf\n",
        "from tensorflow.keras.layers import InputLayer, Conv2D, MaxPool2D, Flatten, Dense, BatchNormalization, Dropout\n",
        "from tensorflow.keras.regularizers import L2"
      ],
      "metadata": {
        "id": "rVzeKuFmtprW"
      },
      "execution_count": 3,
      "outputs": []
    },
    {
      "cell_type": "code",
      "execution_count": 4,
      "metadata": {
        "colab": {
          "base_uri": "https://localhost:8080/"
        },
        "id": "5got_g6gqMRM",
        "outputId": "bd6d2040-1055-445f-96bd-4b4f1bb79b74"
      },
      "outputs": [
        {
          "output_type": "stream",
          "name": "stdout",
          "text": [
            "Model: \"sequential\"\n",
            "_________________________________________________________________\n",
            " Layer (type)                Output Shape              Param #   \n",
            "=================================================================\n",
            " conv2d (Conv2D)             (None, 222, 222, 6)       168       \n",
            "                                                                 \n",
            " batch_normalization (BatchN  (None, 222, 222, 6)      24        \n",
            " ormalization)                                                   \n",
            "                                                                 \n",
            " max_pooling2d (MaxPooling2D  (None, 111, 111, 6)      0         \n",
            " )                                                               \n",
            "                                                                 \n",
            " dropout (Dropout)           (None, 111, 111, 6)       0         \n",
            "                                                                 \n",
            " conv2d_1 (Conv2D)           (None, 109, 109, 16)      880       \n",
            "                                                                 \n",
            " batch_normalization_1 (Batc  (None, 109, 109, 16)     64        \n",
            " hNormalization)                                                 \n",
            "                                                                 \n",
            " max_pooling2d_1 (MaxPooling  (None, 54, 54, 16)       0         \n",
            " 2D)                                                             \n",
            "                                                                 \n",
            " flatten (Flatten)           (None, 46656)             0         \n",
            "                                                                 \n",
            " dense (Dense)               (None, 100)               4665700   \n",
            "                                                                 \n",
            " batch_normalization_2 (Batc  (None, 100)              400       \n",
            " hNormalization)                                                 \n",
            "                                                                 \n",
            " dropout_1 (Dropout)         (None, 100)               0         \n",
            "                                                                 \n",
            " dense_1 (Dense)             (None, 10)                1010      \n",
            "                                                                 \n",
            " batch_normalization_3 (Batc  (None, 10)               40        \n",
            " hNormalization)                                                 \n",
            "                                                                 \n",
            " dense_2 (Dense)             (None, 1)                 11        \n",
            "                                                                 \n",
            "=================================================================\n",
            "Total params: 4,668,297\n",
            "Trainable params: 4,668,033\n",
            "Non-trainable params: 264\n",
            "_________________________________________________________________\n",
            "None\n"
          ]
        }
      ],
      "source": [
        "IM_SIZE = 224\n",
        "dropout_rate = 0.2\n",
        "regularization_rate = 0.01\n",
        "model = tf.keras.Sequential([InputLayer(input_shape=(IM_SIZE, IM_SIZE, 3)),\n",
        "\n",
        "                             Conv2D(filters=6, kernel_size=3, strides=1, padding='valid', activation='relu', kernel_regularizer=L2(regularization_rate)),\n",
        "                             BatchNormalization(),\n",
        "                             MaxPool2D(pool_size=2, strides=2),\n",
        "                             Dropout(rate=dropout_rate),\n",
        "\n",
        "                             Conv2D(filters=16, kernel_size=3, strides=1, padding='valid', activation='relu', kernel_regularizer=L2(regularization_rate)),\n",
        "                             BatchNormalization(),\n",
        "                             MaxPool2D(pool_size=2, strides=2),\n",
        "\n",
        "                             Flatten(),\n",
        "\n",
        "                             Dense(100, activation='sigmoid', kernel_regularizer=L2(regularization_rate)), #\n",
        "                             BatchNormalization(),\n",
        "                             Dropout(rate=dropout_rate),\n",
        "\n",
        "                             Dense(10, activation='sigmoid', kernel_regularizer=L2(regularization_rate)),\n",
        "                             BatchNormalization(),\n",
        "                             Dense(1, activation='sigmoid')]) # 0 or 1\n",
        "print(model.summary())"
      ]
    }
  ]
}