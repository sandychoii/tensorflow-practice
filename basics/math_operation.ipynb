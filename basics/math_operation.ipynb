{
  "nbformat": 4,
  "nbformat_minor": 0,
  "metadata": {
    "colab": {
      "provenance": []
    },
    "kernelspec": {
      "name": "python3",
      "display_name": "Python 3"
    },
    "language_info": {
      "name": "python"
    }
  },
  "cells": [
    {
      "cell_type": "markdown",
      "source": [
        "https://www.tensorflow.org/api_docs/python/tf/math"
      ],
      "metadata": {
        "id": "-w0locBkAekz"
      }
    },
    {
      "cell_type": "code",
      "execution_count": 2,
      "metadata": {
        "id": "mLayr-6p_N6m"
      },
      "outputs": [],
      "source": [
        "import tensorflow as tf"
      ]
    },
    {
      "cell_type": "markdown",
      "source": [
        "### tf.abs"
      ],
      "metadata": {
        "id": "d7exJs7IBXYf"
      }
    },
    {
      "cell_type": "code",
      "source": [
        "# Absolute value\n",
        "x_abs = tf.constant([-2.25, 3.25])\n",
        "tf.abs(x_abs)"
      ],
      "metadata": {
        "colab": {
          "base_uri": "https://localhost:8080/"
        },
        "id": "xJuTBW0u_7DK",
        "outputId": "dc375574-d201-4d4f-ab96-431127a90ea0"
      },
      "execution_count": 3,
      "outputs": [
        {
          "output_type": "execute_result",
          "data": {
            "text/plain": [
              "<tf.Tensor: shape=(2,), dtype=float32, numpy=array([2.25, 3.25], dtype=float32)>"
            ]
          },
          "metadata": {},
          "execution_count": 3
        }
      ]
    },
    {
      "cell_type": "code",
      "source": [
        "tf.abs(tf.constant(-0.2))"
      ],
      "metadata": {
        "colab": {
          "base_uri": "https://localhost:8080/"
        },
        "id": "OCZj45SkAKTH",
        "outputId": "eff1279d-2dd5-45e9-e692-ef1006dce997"
      },
      "execution_count": 4,
      "outputs": [
        {
          "output_type": "execute_result",
          "data": {
            "text/plain": [
              "<tf.Tensor: shape=(), dtype=float32, numpy=0.2>"
            ]
          },
          "metadata": {},
          "execution_count": 4
        }
      ]
    },
    {
      "cell_type": "code",
      "source": [
        "# Absolute number of complex number\n",
        "x = tf.constant([[-2.25 + 4.75j], [-3.25 + 5.75j]])\n",
        "tf.abs(x)"
      ],
      "metadata": {
        "colab": {
          "base_uri": "https://localhost:8080/"
        },
        "id": "iwmoR5zlANh1",
        "outputId": "4c522023-c1c4-48af-fb19-2ce9eeec8723"
      },
      "execution_count": 5,
      "outputs": [
        {
          "output_type": "execute_result",
          "data": {
            "text/plain": [
              "<tf.Tensor: shape=(2, 1), dtype=float64, numpy=\n",
              "array([[5.25594901],\n",
              "       [6.60492241]])>"
            ]
          },
          "metadata": {},
          "execution_count": 5
        }
      ]
    },
    {
      "cell_type": "code",
      "source": [
        "print(tf.abs(tf.constant([-2.25 + 4.75j])))\n",
        "print(tf.sqrt((-2.25)**2 + 4.75**2))"
      ],
      "metadata": {
        "colab": {
          "base_uri": "https://localhost:8080/"
        },
        "id": "1qDhKUPoAuDd",
        "outputId": "847b75f6-bfc8-4524-c446-32841de722d1"
      },
      "execution_count": 7,
      "outputs": [
        {
          "output_type": "stream",
          "name": "stdout",
          "text": [
            "tf.Tensor([5.25594901], shape=(1,), dtype=float64)\n",
            "tf.Tensor(5.255949, shape=(), dtype=float32)\n"
          ]
        }
      ]
    },
    {
      "cell_type": "markdown",
      "source": [
        "### tf.{add, multiply, divide, math.divide_no_nan}"
      ],
      "metadata": {
        "id": "tuhgTVpBBa6z"
      }
    },
    {
      "cell_type": "code",
      "source": [
        "# element-wise addition\n",
        "x_1 = tf.constant([5,3,6,6,4,6], dtype=tf.int32)\n",
        "x_2 = tf.constant([7,6,2,6,0,11], dtype=tf.int32)\n",
        "\n",
        "print(tf.add(x_1, x_2))"
      ],
      "metadata": {
        "colab": {
          "base_uri": "https://localhost:8080/"
        },
        "id": "ujDbbQL3A7Qw",
        "outputId": "1414765b-ec30-4736-bc4f-cc0ef90d7010"
      },
      "execution_count": 9,
      "outputs": [
        {
          "output_type": "stream",
          "name": "stdout",
          "text": [
            "tf.Tensor([12  9  8 12  4 17], shape=(6,), dtype=int32)\n"
          ]
        }
      ]
    },
    {
      "cell_type": "code",
      "source": [
        "# if divided by zero\n",
        "x_1 = tf.constant([5,3,6,6,4,6], dtype=tf.int32)\n",
        "x_2 = tf.constant([7,6,2,6,0,11], dtype=tf.int32)\n",
        "\n",
        "tf.divide(x_1, x_2) # inf"
      ],
      "metadata": {
        "colab": {
          "base_uri": "https://localhost:8080/"
        },
        "id": "7BP_A62lB-SG",
        "outputId": "008c4e2e-fb3d-437e-83ff-76713549e5f1"
      },
      "execution_count": 10,
      "outputs": [
        {
          "output_type": "execute_result",
          "data": {
            "text/plain": [
              "<tf.Tensor: shape=(6,), dtype=float64, numpy=\n",
              "array([0.71428571, 0.5       , 3.        , 1.        ,        inf,\n",
              "       0.54545455])>"
            ]
          },
          "metadata": {},
          "execution_count": 10
        }
      ]
    },
    {
      "cell_type": "code",
      "source": [
        "# using divide_no_nan\n",
        "x_1 = tf.constant([5,3,6,6,4,6], dtype=tf.float32) # should be float\n",
        "x_2 = tf.constant([7,6,2,6,0,11], dtype=tf.float32)\n",
        "\n",
        "tf.math.divide_no_nan(x_1, x_2) # safe division"
      ],
      "metadata": {
        "colab": {
          "base_uri": "https://localhost:8080/"
        },
        "id": "DcAIt6FkCLAF",
        "outputId": "258254eb-e3d3-4d44-9436-5149bc89ebc8"
      },
      "execution_count": 11,
      "outputs": [
        {
          "output_type": "execute_result",
          "data": {
            "text/plain": [
              "<tf.Tensor: shape=(6,), dtype=float32, numpy=\n",
              "array([0.71428573, 0.5       , 3.        , 1.        , 0.        ,\n",
              "       0.54545456], dtype=float32)>"
            ]
          },
          "metadata": {},
          "execution_count": 11
        }
      ]
    },
    {
      "cell_type": "code",
      "source": [
        "# Broadcasting\n",
        "x_1 = tf.constant([5,3,6,6,4,6], dtype=tf.float32)\n",
        "x_2 = tf.constant([7], dtype=tf.float32)\n",
        "x_2_stretched = tf.constant([7,7,7,7,7,7], dtype=tf.float32)\n",
        "\n",
        "\n",
        "print(tf.add(x_1, x_2))\n",
        "print(tf.add(x_1, x_2_stretched))"
      ],
      "metadata": {
        "colab": {
          "base_uri": "https://localhost:8080/"
        },
        "id": "jTKciyT6Cb35",
        "outputId": "e5a1cebc-d5d7-459a-a0bc-0cfc6beb4be4"
      },
      "execution_count": 15,
      "outputs": [
        {
          "output_type": "stream",
          "name": "stdout",
          "text": [
            "tf.Tensor([12. 10. 13. 13. 11. 13.], shape=(6,), dtype=float32)\n",
            "tf.Tensor([12. 10. 13. 13. 11. 13.], shape=(6,), dtype=float32)\n"
          ]
        }
      ]
    },
    {
      "cell_type": "code",
      "source": [
        "# how element-wise broadcasting works\n",
        "# stretched\n",
        "x_1 = tf.constant([5,3,6,6,4,6], dtype=tf.float32)\n",
        "x_2 = tf.constant([[7],[5],[3]], dtype=tf.float32)\n",
        "\n",
        "print(x_1.shape)\n",
        "print(x_2.shape)\n",
        "print(tf.math.multiply(x_1, x_2))\n",
        "\n",
        "# [5,3,6,6,4,6] [7,7,7,7,7,7]\n",
        "# [5,3,6,6,4,6] [5,5,5,5,5,5]\n",
        "# [5,3,6,6,4,6] [3,3,3,3,3,3]"
      ],
      "metadata": {
        "colab": {
          "base_uri": "https://localhost:8080/"
        },
        "id": "tMRoVSjpCn-h",
        "outputId": "ce60aeb8-6cb6-4457-b714-273045cc86c2"
      },
      "execution_count": 16,
      "outputs": [
        {
          "output_type": "stream",
          "name": "stdout",
          "text": [
            "(6,)\n",
            "(3, 1)\n",
            "tf.Tensor(\n",
            "[[35. 21. 42. 42. 28. 42.]\n",
            " [25. 15. 30. 30. 20. 30.]\n",
            " [15.  9. 18. 18. 12. 18.]], shape=(3, 6), dtype=float32)\n"
          ]
        }
      ]
    },
    {
      "cell_type": "markdown",
      "source": [
        "### tf.math.{maximum, minumum, argmax}"
      ],
      "metadata": {
        "id": "U4SMdkjBDu5c"
      }
    },
    {
      "cell_type": "code",
      "source": [
        "# position of maximum value\n",
        "x_argmax = tf.constant([200, 20, 30, 3, 6])\n",
        "tf.math.argmax(x_argmax)"
      ],
      "metadata": {
        "colab": {
          "base_uri": "https://localhost:8080/"
        },
        "id": "YD9DlvNoDpVs",
        "outputId": "7e8f93fa-09d5-4564-aa2e-806b43612573"
      },
      "execution_count": 17,
      "outputs": [
        {
          "output_type": "stream",
          "name": "stdout",
          "text": [
            "(3, 5)\n"
          ]
        }
      ]
    },
    {
      "cell_type": "code",
      "source": [
        "x_argmax = tf.constant([[2, 20, 30, 3, 6],\n",
        "                        [3, 11, 16, 1, 8],\n",
        "                       [14, 45, 23, 5, 27]])\n",
        "print(x_argmax.shape)"
      ],
      "metadata": {
        "colab": {
          "base_uri": "https://localhost:8080/"
        },
        "id": "KUhzEWpPEFxk",
        "outputId": "51fdb87e-61b2-4c90-a8a1-8dac99e0188a"
      },
      "execution_count": 19,
      "outputs": [
        {
          "output_type": "stream",
          "name": "stdout",
          "text": [
            "(3, 5)\n"
          ]
        }
      ]
    },
    {
      "cell_type": "code",
      "source": [
        "tf.math.argmax(x_argmax, 0) # **fixing the axis 0**, and compare within column"
      ],
      "metadata": {
        "colab": {
          "base_uri": "https://localhost:8080/"
        },
        "id": "RIIrmFabENTb",
        "outputId": "e8c76134-c3fc-4ad4-d631-415e52e5bdaa"
      },
      "execution_count": 21,
      "outputs": [
        {
          "output_type": "execute_result",
          "data": {
            "text/plain": [
              "<tf.Tensor: shape=(5,), dtype=int64, numpy=array([2, 2, 0, 2, 2])>"
            ]
          },
          "metadata": {},
          "execution_count": 21
        }
      ]
    },
    {
      "cell_type": "code",
      "source": [
        "tf.math.argmin(x_argmax, 1) # fixing the axis 0, and compare within column"
      ],
      "metadata": {
        "colab": {
          "base_uri": "https://localhost:8080/"
        },
        "id": "CX2wCjpoEmC6",
        "outputId": "3a3a8849-f24a-4473-a422-bf6bdf3dd064"
      },
      "execution_count": 23,
      "outputs": [
        {
          "output_type": "execute_result",
          "data": {
            "text/plain": [
              "<tf.Tensor: shape=(3,), dtype=int64, numpy=array([0, 3, 3])>"
            ]
          },
          "metadata": {},
          "execution_count": 23
        }
      ]
    },
    {
      "cell_type": "markdown",
      "source": [
        "### tf.math.equal"
      ],
      "metadata": {
        "id": "2YU6YZK0F1Kk"
      }
    },
    {
      "cell_type": "code",
      "source": [
        "x = tf.constant([2, 4])\n",
        "y = tf.constant(2) # broadcasting\n",
        "tf.math.equal(x, y)"
      ],
      "metadata": {
        "colab": {
          "base_uri": "https://localhost:8080/"
        },
        "id": "vOVHJgpEFeCI",
        "outputId": "14c17b3b-88e7-4af7-b8b8-c33d9e12f3bd"
      },
      "execution_count": 24,
      "outputs": [
        {
          "output_type": "execute_result",
          "data": {
            "text/plain": [
              "<tf.Tensor: shape=(2,), dtype=bool, numpy=array([ True, False])>"
            ]
          },
          "metadata": {},
          "execution_count": 24
        }
      ]
    },
    {
      "cell_type": "markdown",
      "source": [
        "### tf.math.pow"
      ],
      "metadata": {
        "id": "cfyG1eN8GcWb"
      }
    },
    {
      "cell_type": "code",
      "source": [
        "x = tf.constant([[2, 2], [3, 3]])\n",
        "y = tf.constant([[8, 16], [2, 3]])\n",
        "tf.math.pow(x,y) # power of x to y"
      ],
      "metadata": {
        "colab": {
          "base_uri": "https://localhost:8080/"
        },
        "id": "ze5c3bl-GDxQ",
        "outputId": "e03243aa-2dc0-4ea5-fb6c-e1135e0dbe43"
      },
      "execution_count": 25,
      "outputs": [
        {
          "output_type": "execute_result",
          "data": {
            "text/plain": [
              "<tf.Tensor: shape=(2, 2), dtype=int32, numpy=\n",
              "array([[  256, 65536],\n",
              "       [    9,    27]], dtype=int32)>"
            ]
          },
          "metadata": {},
          "execution_count": 25
        }
      ]
    },
    {
      "cell_type": "markdown",
      "source": [
        "### tf.math.reduce*"
      ],
      "metadata": {
        "id": "__tadYydGfTv"
      }
    },
    {
      "cell_type": "code",
      "source": [
        "tensor_two_d = tf.constant([\n",
        "    [1,2,0],\n",
        "    [3,5,-1],\n",
        "    [1,5,6],\n",
        "    [2,3,8]\n",
        "])\n",
        "\n",
        "tf.math.reduce_sum(tensor_two_d, axis=None, keepdims=False, name=None) # adding up (reducing into sum)"
      ],
      "metadata": {
        "colab": {
          "base_uri": "https://localhost:8080/"
        },
        "id": "dPlKXWquGQmG",
        "outputId": "6eaca088-5a6d-4d8a-cfd2-cafff5e77318"
      },
      "execution_count": 26,
      "outputs": [
        {
          "output_type": "execute_result",
          "data": {
            "text/plain": [
              "<tf.Tensor: shape=(), dtype=int32, numpy=35>"
            ]
          },
          "metadata": {},
          "execution_count": 26
        }
      ]
    },
    {
      "cell_type": "code",
      "source": [
        "tensor_two_d = tf.constant([\n",
        "    [1,2,0],\n",
        "    [3,5,-1],\n",
        "    [1,5,6],\n",
        "    [2,3,8]\n",
        "])\n",
        "\n",
        "tf.math.reduce_max(tensor_two_d, axis=None, keepdims=False, name=None) # reducing into max value in the tensor"
      ],
      "metadata": {
        "colab": {
          "base_uri": "https://localhost:8080/"
        },
        "id": "UL3U-xviGscS",
        "outputId": "82f16307-e499-4a4c-bfd6-ea1dbc31b132"
      },
      "execution_count": 27,
      "outputs": [
        {
          "output_type": "execute_result",
          "data": {
            "text/plain": [
              "<tf.Tensor: shape=(), dtype=int32, numpy=8>"
            ]
          },
          "metadata": {},
          "execution_count": 27
        }
      ]
    },
    {
      "cell_type": "code",
      "source": [
        "tensor_two_d = tf.constant([\n",
        "    [1,2,0],\n",
        "    [3,5,-1],\n",
        "    [1,5,6],\n",
        "    [2,3,8]\n",
        "])\n",
        "\n",
        "print(tensor_two_d.shape)\n",
        "print(tf.math.reduce_sum(tensor_two_d, axis=0, keepdims=False, name=None)) # fixing axis 0, summing axis 1(column)"
      ],
      "metadata": {
        "colab": {
          "base_uri": "https://localhost:8080/"
        },
        "id": "r2UQNNlFHADX",
        "outputId": "c19b856a-50a5-4df4-c674-46ecde7f059f"
      },
      "execution_count": 29,
      "outputs": [
        {
          "output_type": "stream",
          "name": "stdout",
          "text": [
            "(4, 3)\n",
            "tf.Tensor([ 7 15 13], shape=(3,), dtype=int32)\n"
          ]
        }
      ]
    },
    {
      "cell_type": "code",
      "source": [
        "print(tf.math.reduce_sum(tensor_two_d, axis=1, keepdims=False, name=None))"
      ],
      "metadata": {
        "colab": {
          "base_uri": "https://localhost:8080/"
        },
        "id": "x3pjso8VHMVu",
        "outputId": "9495cfc0-63e7-46c0-c627-32c72293a3fa"
      },
      "execution_count": 31,
      "outputs": [
        {
          "output_type": "stream",
          "name": "stdout",
          "text": [
            "tf.Tensor([ 3  7 12 13], shape=(4,), dtype=int32)\n"
          ]
        }
      ]
    },
    {
      "cell_type": "code",
      "source": [
        "print(tf.math.reduce_mean(tensor_two_d, axis=0, keepdims=False, name=None)) # make the tensor float to see accurate value"
      ],
      "metadata": {
        "colab": {
          "base_uri": "https://localhost:8080/"
        },
        "id": "QA1AQyfEHaBI",
        "outputId": "b8ea829d-1d77-43cb-9356-e01fb767daa0"
      },
      "execution_count": 32,
      "outputs": [
        {
          "output_type": "stream",
          "name": "stdout",
          "text": [
            "tf.Tensor([1 3 3], shape=(3,), dtype=int32)\n"
          ]
        }
      ]
    },
    {
      "cell_type": "markdown",
      "source": [
        "### tf.math.sigmoid"
      ],
      "metadata": {
        "id": "LbqnaFYwHycZ"
      }
    },
    {
      "cell_type": "code",
      "source": [
        "x = tf.constant([0.0, 1.0, 50.0, 100.0])\n",
        "tf.math.sigmoid(x)"
      ],
      "metadata": {
        "colab": {
          "base_uri": "https://localhost:8080/"
        },
        "id": "MKInT4IbHkMM",
        "outputId": "48f4e010-4035-48a5-e9e2-2449d8a4dde0"
      },
      "execution_count": 33,
      "outputs": [
        {
          "output_type": "execute_result",
          "data": {
            "text/plain": [
              "<tf.Tensor: shape=(4,), dtype=float32, numpy=array([0.5      , 0.7310586, 1.       , 1.       ], dtype=float32)>"
            ]
          },
          "metadata": {},
          "execution_count": 33
        }
      ]
    },
    {
      "cell_type": "markdown",
      "source": [
        "### tf.math.top_k"
      ],
      "metadata": {
        "id": "5UmbzQGPIkXP"
      }
    },
    {
      "cell_type": "code",
      "source": [
        "tensor_two_d = tf.constant([\n",
        "    [1,2,0],\n",
        "    [3,5,-1],\n",
        "    [1,5,6],\n",
        "    [2,3,8]\n",
        "])\n",
        "\n",
        "tf.math.top_k(tensor_two_d, k=1)"
      ],
      "metadata": {
        "colab": {
          "base_uri": "https://localhost:8080/"
        },
        "id": "16bH-30jIMkr",
        "outputId": "b5a8ec63-a44c-43f1-a168-fd21d83fa975"
      },
      "execution_count": 36,
      "outputs": [
        {
          "output_type": "execute_result",
          "data": {
            "text/plain": [
              "TopKV2(values=<tf.Tensor: shape=(4, 1), dtype=int32, numpy=\n",
              "array([[2],\n",
              "       [5],\n",
              "       [6],\n",
              "       [8]], dtype=int32)>, indices=<tf.Tensor: shape=(4, 1), dtype=int32, numpy=\n",
              "array([[1],\n",
              "       [1],\n",
              "       [2],\n",
              "       [2]], dtype=int32)>)"
            ]
          },
          "metadata": {},
          "execution_count": 36
        }
      ]
    },
    {
      "cell_type": "code",
      "source": [],
      "metadata": {
        "id": "kG6WO8ejIhEE"
      },
      "execution_count": null,
      "outputs": []
    }
  ]
}