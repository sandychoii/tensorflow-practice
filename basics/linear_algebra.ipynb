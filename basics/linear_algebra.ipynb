{
  "nbformat": 4,
  "nbformat_minor": 0,
  "metadata": {
    "colab": {
      "provenance": []
    },
    "kernelspec": {
      "name": "python3",
      "display_name": "Python 3"
    },
    "language_info": {
      "name": "python"
    }
  },
  "cells": [
    {
      "cell_type": "markdown",
      "source": [
        "https://www.tensorflow.org/api_docs/python/tf/linalg"
      ],
      "metadata": {
        "id": "1FsKX-TtJd8b"
      }
    },
    {
      "cell_type": "code",
      "source": [
        "import tensorflow as tf"
      ],
      "metadata": {
        "id": "wqiD2U0uKMyH"
      },
      "execution_count": null,
      "outputs": []
    },
    {
      "cell_type": "markdown",
      "source": [
        "### tf.linalg.matmul"
      ],
      "metadata": {
        "id": "WxfvSROgK0Bn"
      }
    },
    {
      "cell_type": "code",
      "execution_count": null,
      "metadata": {
        "colab": {
          "base_uri": "https://localhost:8080/"
        },
        "id": "35wduz1uJUam",
        "outputId": "4783be9b-8531-4d1d-abf6-02dc47523a9f"
      },
      "outputs": [
        {
          "output_type": "stream",
          "name": "stdout",
          "text": [
            "(2, 3)\n",
            "(3, 4)\n"
          ]
        },
        {
          "output_type": "execute_result",
          "data": {
            "text/plain": [
              "<tf.Tensor: shape=(2, 4), dtype=int32, numpy=\n",
              "array([[ 7, 12, -2,  6],\n",
              "       [22, 36,  1, 16]], dtype=int32)>"
            ]
          },
          "metadata": {},
          "execution_count": 5
        }
      ],
      "source": [
        "x_1 = tf.constant([[1,2,0],\n",
        "                   [3,5,1]])\n",
        "x_2 = tf.constant([[1,2,0,2],\n",
        "                  [3,5,-1,2],\n",
        "                  [4,5,6,0]])\n",
        "\n",
        "print(x_1.shape)\n",
        "print(x_2.shape)\n",
        "\n",
        "tf.linalg.matmul(\n",
        "    x_1,\n",
        "    x_2,\n",
        "    transpose_a=False,\n",
        "    transpose_b=False,\n",
        "    adjoint_a=False,\n",
        "    adjoint_b=False,\n",
        "    a_is_sparse=False,\n",
        "    b_is_sparse=False,\n",
        "    output_type=None,\n",
        "    name=None\n",
        ")"
      ]
    },
    {
      "cell_type": "code",
      "source": [
        "print(x_1@x_2) # matrix multiplication (* for element-wise)"
      ],
      "metadata": {
        "colab": {
          "base_uri": "https://localhost:8080/"
        },
        "id": "wRLSHCOpKJtl",
        "outputId": "05d5ffa7-ad7b-4ac6-82c3-3de3b919a92f"
      },
      "execution_count": null,
      "outputs": [
        {
          "output_type": "stream",
          "name": "stdout",
          "text": [
            "tf.Tensor(\n",
            "[[ 7 12 -2  6]\n",
            " [22 36  1 16]], shape=(2, 4), dtype=int32)\n"
          ]
        }
      ]
    },
    {
      "cell_type": "markdown",
      "source": [
        "Transpose"
      ],
      "metadata": {
        "id": "rMrhovEYPNKC"
      }
    },
    {
      "cell_type": "code",
      "source": [
        "# transpose\n",
        "x_1 = tf.constant([[1,2,0]])\n",
        "print(x_1.shape)\n",
        "\n",
        "tf.transpose(x_1)\n",
        "print(tf.transpose(x_1))"
      ],
      "metadata": {
        "colab": {
          "base_uri": "https://localhost:8080/"
        },
        "id": "tYJC5aFqLGGs",
        "outputId": "d0a433eb-0198-4e4d-f5b4-3e56d43832cf"
      },
      "execution_count": null,
      "outputs": [
        {
          "output_type": "stream",
          "name": "stdout",
          "text": [
            "(1, 3)\n",
            "tf.Tensor(\n",
            "[[1]\n",
            " [2]\n",
            " [0]], shape=(3, 1), dtype=int32)\n"
          ]
        }
      ]
    },
    {
      "cell_type": "code",
      "source": [
        "x_1 = tf.constant([[1,2,0]])\n",
        "x_2 = tf.constant([[1,2,0,2],\n",
        "                  [3,5,-1,2],\n",
        "                  [4,5,6,0]])\n",
        "x_3 = tf.constant([[1,2,0,2],\n",
        "                  [3,5,-1,2]])\n",
        "\n",
        "print(x_1.shape)\n",
        "print(x_2.shape) #(3,4)\n",
        "print(x_3.shape) #(2,4)\n",
        "\n",
        "# These are same\n",
        "print(x_2@tf.transpose(x_3))\n",
        "print(tf.linalg.matmul(\n",
        "    x_2,\n",
        "    x_3,\n",
        "    transpose_a=False,\n",
        "    transpose_b=True,\n",
        "    adjoint_a=False,\n",
        "    adjoint_b=False,\n",
        "    a_is_sparse=False,\n",
        "    b_is_sparse=False,\n",
        "    output_type=None,\n",
        "    name=None\n",
        "))"
      ],
      "metadata": {
        "colab": {
          "base_uri": "https://localhost:8080/"
        },
        "id": "EkjETOKqLcoh",
        "outputId": "b38821e0-3c97-4165-fdea-d455ffa7403e"
      },
      "execution_count": null,
      "outputs": [
        {
          "output_type": "stream",
          "name": "stdout",
          "text": [
            "(1, 3)\n",
            "(3, 4)\n",
            "(2, 4)\n",
            "tf.Tensor(\n",
            "[[ 9 17]\n",
            " [17 39]\n",
            " [14 31]], shape=(3, 2), dtype=int32)\n",
            "tf.Tensor(\n",
            "[[ 9 17]\n",
            " [17 39]\n",
            " [14 31]], shape=(3, 2), dtype=int32)\n"
          ]
        }
      ]
    },
    {
      "cell_type": "code",
      "source": [
        "x_2.T ## EagerTensor Error?"
      ],
      "metadata": {
        "id": "CvWx0lu7L-SE"
      },
      "execution_count": null,
      "outputs": []
    },
    {
      "cell_type": "code",
      "source": [
        "## for 3d tensor\n",
        "x_1 = tf.constant([\n",
        "    [[1,2,0],\n",
        "    [3,5,-1]],\n",
        "\n",
        "    [[10,2,0],\n",
        "     [1,0,2]],\n",
        "\n",
        "    [[5,8,0],\n",
        "     [2,7,0]],\n",
        "\n",
        "    [[2,1,9],\n",
        "     [4,-3,32]]\n",
        "\n",
        "])\n",
        "\n",
        "print(x_1.shape)\n",
        "\n",
        "x_2 = tf.constant([\n",
        "    [[5,1,4],\n",
        "    [34,15,1]],\n",
        "\n",
        "    [[10,2,0],\n",
        "     [1,0,2]],\n",
        "\n",
        "    [[5,8,0],\n",
        "     [2,7,0]],\n",
        "\n",
        "    [[2,1,9],\n",
        "     [4,-3,32]]\n",
        "\n",
        "])\n",
        "\n",
        "print(x_2.shape)"
      ],
      "metadata": {
        "colab": {
          "base_uri": "https://localhost:8080/"
        },
        "id": "pq4-764yMmNT",
        "outputId": "2ae3ad93-c848-4008-a4eb-ed78b47f9a47"
      },
      "execution_count": null,
      "outputs": [
        {
          "output_type": "stream",
          "name": "stdout",
          "text": [
            "(4, 2, 3)\n",
            "(4, 2, 3)\n"
          ]
        }
      ]
    },
    {
      "cell_type": "markdown",
      "source": [
        "Matmul in batch"
      ],
      "metadata": {
        "id": "Zxpie_D7PIjR"
      }
    },
    {
      "cell_type": "code",
      "source": [
        "# When matmul is done in batches, look at each batch and do matmul\n",
        "# make sure each batches are multipliable\n",
        "# batch is the one in axis 0\n",
        "tf.linalg.matmul(x_1, x_2)\n",
        "\n",
        "# Currently, (2,3)@(2,3) incompatible"
      ],
      "metadata": {
        "id": "8HqzI0VAMuoU"
      },
      "execution_count": null,
      "outputs": []
    },
    {
      "cell_type": "code",
      "source": [
        "x_1 = tf.constant([\n",
        "    [[1,2],\n",
        "    [3,5]],\n",
        "\n",
        "    [[10,2],\n",
        "     [1,0]],\n",
        "\n",
        "    [[5,8],\n",
        "     [2,7]],\n",
        "\n",
        "    [[2,1],\n",
        "     [4,-3]]\n",
        "\n",
        "])\n",
        "\n",
        "print(x_1.shape)\n",
        "\n",
        "x_2 = tf.constant([\n",
        "    [[5,1,4],\n",
        "    [34,15,1]],\n",
        "\n",
        "    [[10,2,0],\n",
        "     [1,0,2]],\n",
        "\n",
        "    [[5,8,0],\n",
        "     [2,7,0]],\n",
        "\n",
        "    [[2,1,9],\n",
        "     [4,-3,32]]\n",
        "\n",
        "])\n",
        "print(x_2.shape)"
      ],
      "metadata": {
        "colab": {
          "base_uri": "https://localhost:8080/"
        },
        "id": "QsPbxVlqONKL",
        "outputId": "e09144ca-c1ff-4e42-ac47-9d34334e3421"
      },
      "execution_count": null,
      "outputs": [
        {
          "output_type": "stream",
          "name": "stdout",
          "text": [
            "(4, 2, 2)\n",
            "(4, 2, 3)\n"
          ]
        }
      ]
    },
    {
      "cell_type": "code",
      "source": [
        "# (2,2)@(2,3) is compatible\n",
        "tf.linalg.matmul(x_1, x_2)"
      ],
      "metadata": {
        "colab": {
          "base_uri": "https://localhost:8080/"
        },
        "id": "rIE1Ky3FOa4i",
        "outputId": "435c25c6-d35b-47c9-c209-097a6c976ebc"
      },
      "execution_count": null,
      "outputs": [
        {
          "output_type": "execute_result",
          "data": {
            "text/plain": [
              "<tf.Tensor: shape=(4, 2, 3), dtype=int32, numpy=\n",
              "array([[[ 73,  31,   6],\n",
              "        [185,  78,  17]],\n",
              "\n",
              "       [[102,  20,   4],\n",
              "        [ 10,   2,   0]],\n",
              "\n",
              "       [[ 41,  96,   0],\n",
              "        [ 24,  65,   0]],\n",
              "\n",
              "       [[  8,  -1,  50],\n",
              "        [ -4,  13, -60]]], dtype=int32)>"
            ]
          },
          "metadata": {},
          "execution_count": 26
        }
      ]
    },
    {
      "cell_type": "markdown",
      "source": [
        "Sparse tensors"
      ],
      "metadata": {
        "id": "WQ5-fuuWPdxU"
      }
    },
    {
      "cell_type": "code",
      "source": [
        "# There will be many cased when tensors are mostly made of zeros.\n",
        "x_1 = tf.constant([[0,0],\n",
        "                  [0,2]])\n",
        "x_2 = tf.constant([[1,0,0],\n",
        "                   [0,0,0]])\n",
        "\n",
        "print(tf.linalg.matmul(x_1, x_2, a_is_sparse=True, b_is_sparse=True))\n",
        "# Faster operation by telling it's sparse matrix"
      ],
      "metadata": {
        "colab": {
          "base_uri": "https://localhost:8080/"
        },
        "id": "ecItk9sXPdGG",
        "outputId": "4d8be79d-a6a3-4356-a5db-b47dd249fe2b"
      },
      "execution_count": null,
      "outputs": [
        {
          "output_type": "stream",
          "name": "stdout",
          "text": [
            "tf.Tensor(\n",
            "[[0 0 0]\n",
            " [0 0 0]], shape=(2, 3), dtype=int32)\n"
          ]
        }
      ]
    },
    {
      "cell_type": "markdown",
      "source": [
        "### tf.linalg.band_part\n",
        "\n",
        "Copy a tensor setting everything outside a central band in each innermost matrix to zero."
      ],
      "metadata": {
        "id": "0fhNHa83QvHZ"
      }
    },
    {
      "cell_type": "code",
      "source": [
        "tensor_two_d = tf.constant([[1,-2,0],\n",
        "                            [3,5,100],\n",
        "                            [1,5,6],\n",
        "                            [2,3,8]], dtype=tf.float16)\n",
        "\n",
        "## in_band(m, n) = (num_lower < 0 || (m-n) <= num_lower)) && (num_upper < 0 || (n-m) <= num_upper)\n",
        "## m - rows, n - columns\n",
        "\n",
        "tf.linalg.band_part(tensor_two_d, 0, 0)"
      ],
      "metadata": {
        "colab": {
          "base_uri": "https://localhost:8080/"
        },
        "id": "Sy2VxUWBud57",
        "outputId": "5ac55d5b-7ce5-49fa-aa98-7f1edeb3d318"
      },
      "execution_count": null,
      "outputs": [
        {
          "output_type": "execute_result",
          "data": {
            "text/plain": [
              "<tf.Tensor: shape=(4, 3), dtype=float16, numpy=\n",
              "array([[1., 0., 0.],\n",
              "       [0., 5., 0.],\n",
              "       [0., 0., 6.],\n",
              "       [0., 0., 0.]], dtype=float16)>"
            ]
          },
          "metadata": {},
          "execution_count": 2
        }
      ]
    },
    {
      "cell_type": "code",
      "source": [
        "## m - rows, n - columns\n",
        "# The results of m-n and n-m in matrix\n",
        "# m-n (row idx - column idx)\n",
        "tensor_two_d_m_n = tf.constant([[0, -1, -2],\n",
        "                                [1, 0, -1],\n",
        "                                [2, 1, 0],\n",
        "                                [3, 2, 1]], dtype=tf.float16)\n",
        "\n",
        "# n-m\n",
        "tensor_two_d_n_m = tf.constant([[ 0,  1, 2],\n",
        "                                [-1,  0,  1],\n",
        "                                [-2, -1,  0],\n",
        "                                [-3, -2, -1]], dtype=tf.float16)"
      ],
      "metadata": {
        "id": "wUftjqfR88D4"
      },
      "execution_count": null,
      "outputs": []
    },
    {
      "cell_type": "code",
      "source": [
        "# How band part is calculated\n",
        "tensor_two_d = tf.constant([[1,-2,0],\n",
        "                            [3,5,100],\n",
        "                            [1,5,6],\n",
        "                            [2,3,8]], dtype=tf.float16)\n",
        "\n",
        "tf.linalg.band_part(tensor_two_d, 0, 0)\n",
        "# lower = 0\n",
        "# upper = 0\n",
        "# (m-n <= lower) && (n-m <= upper)"
      ],
      "metadata": {
        "colab": {
          "base_uri": "https://localhost:8080/"
        },
        "id": "0X3d19GG_P9A",
        "outputId": "94d9c4fe-f0ea-4437-9be0-927ae4d08efc"
      },
      "execution_count": null,
      "outputs": [
        {
          "output_type": "execute_result",
          "data": {
            "text/plain": [
              "<tf.Tensor: shape=(4, 3), dtype=float16, numpy=\n",
              "array([[1., 0., 0.],\n",
              "       [0., 5., 0.],\n",
              "       [0., 0., 6.],\n",
              "       [0., 0., 0.]], dtype=float16)>"
            ]
          },
          "metadata": {},
          "execution_count": 4
        }
      ]
    },
    {
      "cell_type": "markdown",
      "source": [
        "Special use cases\n",
        "- tf.linalg.band_part(input, 0, -1) ==> Upper triangular part.\n",
        "- tf.linalg.band_part(input, -1, 0) ==> Lower triangular part.\n",
        "- tf.linalg.band_part(input, 0, 0) ==> Diagonal."
      ],
      "metadata": {
        "id": "wRcoJx6e_Fly"
      }
    },
    {
      "cell_type": "code",
      "source": [
        "tf.linalg.band_part(tensor_two_d, 0, -1)"
      ],
      "metadata": {
        "colab": {
          "base_uri": "https://localhost:8080/"
        },
        "id": "HjHbl4bD9inI",
        "outputId": "46c9dc9d-d356-4326-cba3-e3f28bdf88ef"
      },
      "execution_count": null,
      "outputs": [
        {
          "output_type": "execute_result",
          "data": {
            "text/plain": [
              "<tf.Tensor: shape=(4, 3), dtype=float16, numpy=\n",
              "array([[  1.,  -2.,   0.],\n",
              "       [  0.,   5., 100.],\n",
              "       [  0.,   0.,   6.],\n",
              "       [  0.,   0.,   0.]], dtype=float16)>"
            ]
          },
          "metadata": {},
          "execution_count": 5
        }
      ]
    },
    {
      "cell_type": "code",
      "source": [
        "tf.linalg.band_part(tensor_two_d, -1, 0)"
      ],
      "metadata": {
        "colab": {
          "base_uri": "https://localhost:8080/"
        },
        "id": "QcHZNY5sAZP-",
        "outputId": "aa8bd125-be2d-4a8f-9852-d328051e1f9f"
      },
      "execution_count": null,
      "outputs": [
        {
          "output_type": "execute_result",
          "data": {
            "text/plain": [
              "<tf.Tensor: shape=(4, 3), dtype=float16, numpy=\n",
              "array([[1., 0., 0.],\n",
              "       [3., 5., 0.],\n",
              "       [1., 5., 6.],\n",
              "       [2., 3., 8.]], dtype=float16)>"
            ]
          },
          "metadata": {},
          "execution_count": 6
        }
      ]
    },
    {
      "cell_type": "markdown",
      "source": [
        "### tf.linalg.inv\n",
        "\n",
        "Computes the inverse of one or more square invertible matrices or their adjoints"
      ],
      "metadata": {
        "id": "c3pRKgRyAdZE"
      }
    },
    {
      "cell_type": "code",
      "source": [
        "# Should be sqaure matrix\n",
        "tensor_two_d = tf.constant([[1,-2,0],\n",
        "                            [3,5,100],\n",
        "                            [1,5,6]], dtype=tf.float32) # float16 causes error\n",
        "\n",
        "tensor_two_d_inv = tf.linalg.inv(tensor_two_d)\n",
        "tensor_two_d_inv"
      ],
      "metadata": {
        "colab": {
          "base_uri": "https://localhost:8080/"
        },
        "id": "1FJA7ohuAbXk",
        "outputId": "f0496099-f88c-48e8-d8ae-f2541ef77824"
      },
      "execution_count": null,
      "outputs": [
        {
          "output_type": "execute_result",
          "data": {
            "text/plain": [
              "<tf.Tensor: shape=(3, 3), dtype=float32, numpy=\n",
              "array([[ 0.7413249 , -0.01892742,  0.3154574 ],\n",
              "       [-0.12933755, -0.00946371,  0.1577287 ],\n",
              "       [-0.01577287,  0.01104101, -0.01735016]], dtype=float32)>"
            ]
          },
          "metadata": {},
          "execution_count": 8
        }
      ]
    },
    {
      "cell_type": "code",
      "source": [
        "tensor_two_d@tensor_two_d_inv # identity matrix"
      ],
      "metadata": {
        "colab": {
          "base_uri": "https://localhost:8080/"
        },
        "id": "FZ44fj3EA3T3",
        "outputId": "fd573b73-0960-4a8f-c819-aca6bf936471"
      },
      "execution_count": null,
      "outputs": [
        {
          "output_type": "execute_result",
          "data": {
            "text/plain": [
              "<tf.Tensor: shape=(3, 3), dtype=float32, numpy=\n",
              "array([[ 1.0000000e+00,  7.4505806e-09,  0.0000000e+00],\n",
              "       [ 1.6391277e-07,  1.0000000e+00,  4.4703484e-08],\n",
              "       [-5.2154064e-08,  7.4505806e-08,  1.0000000e+00]], dtype=float32)>"
            ]
          },
          "metadata": {},
          "execution_count": 9
        }
      ]
    },
    {
      "cell_type": "markdown",
      "source": [
        "### tf.linalg.svd"
      ],
      "metadata": {
        "id": "9o-M-A1IBd4x"
      }
    },
    {
      "cell_type": "code",
      "source": [
        "# a is a tensor.\n",
        "# s is a tensor of singular values.\n",
        "# u is a tensor of left singular vectors.\n",
        "# v is a tensor of right singular vectors.\n",
        "\n",
        "s, u, v = tf.linalg.svd(tensor_two_d)\n",
        "print(s)\n",
        "print(u)\n",
        "print(v)"
      ],
      "metadata": {
        "colab": {
          "base_uri": "https://localhost:8080/"
        },
        "id": "P7EW0PYmBIak",
        "outputId": "24918f62-d1f8-4646-e92f-050f1b5ae21a"
      },
      "execution_count": null,
      "outputs": [
        {
          "output_type": "stream",
          "name": "stdout",
          "text": [
            "tf.Tensor([100.3663      5.1059036   1.2371687], shape=(3,), dtype=float32)\n",
            "tf.Tensor(\n",
            "[[-7.4980810e-04 -3.7569830e-01  9.2674178e-01]\n",
            " [ 9.9803799e-01 -5.8300879e-02 -2.2827482e-02]\n",
            " [ 6.2606096e-02  9.2490643e-01  3.7500489e-01]], shape=(3, 3), dtype=float32)\n",
            "tf.Tensor(\n",
            "[[ 0.03044816  0.07330841  0.99684453]\n",
            " [ 0.0528536   0.9957936  -0.07484547]\n",
            " [ 0.998138   -0.05496572 -0.02644547]], shape=(3, 3), dtype=float32)\n"
          ]
        }
      ]
    },
    {
      "cell_type": "code",
      "source": [
        "\"\""
      ],
      "metadata": {
        "id": "lhWrcCWQBrk0"
      },
      "execution_count": null,
      "outputs": []
    }
  ]
}