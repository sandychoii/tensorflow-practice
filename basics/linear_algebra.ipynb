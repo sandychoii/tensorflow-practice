{
  "cells": [
    {
      "cell_type": "markdown",
      "metadata": {
        "id": "1FsKX-TtJd8b"
      },
      "source": [
        "https://www.tensorflow.org/api_docs/python/tf/linalg"
      ]
    },
    {
      "cell_type": "code",
      "execution_count": 2,
      "metadata": {
        "id": "wqiD2U0uKMyH"
      },
      "outputs": [],
      "source": [
        "import tensorflow as tf"
      ]
    },
    {
      "cell_type": "markdown",
      "metadata": {
        "id": "WxfvSROgK0Bn"
      },
      "source": [
        "### tf.linalg.matmul"
      ]
    },
    {
      "cell_type": "code",
      "execution_count": 5,
      "metadata": {
        "colab": {
          "base_uri": "https://localhost:8080/"
        },
        "id": "35wduz1uJUam",
        "outputId": "4783be9b-8531-4d1d-abf6-02dc47523a9f"
      },
      "outputs": [
        {
          "name": "stdout",
          "output_type": "stream",
          "text": [
            "(2, 3)\n",
            "(3, 4)\n"
          ]
        },
        {
          "data": {
            "text/plain": [
              "<tf.Tensor: shape=(2, 4), dtype=int32, numpy=\n",
              "array([[ 7, 12, -2,  6],\n",
              "       [22, 36,  1, 16]], dtype=int32)>"
            ]
          },
          "execution_count": 5,
          "metadata": {},
          "output_type": "execute_result"
        }
      ],
      "source": [
        "x_1 = tf.constant([[1,2,0],\n",
        "                   [3,5,1]])\n",
        "x_2 = tf.constant([[1,2,0,2],\n",
        "                  [3,5,-1,2],\n",
        "                  [4,5,6,0]])\n",
        "\n",
        "print(x_1.shape)\n",
        "print(x_2.shape)\n",
        "\n",
        "tf.linalg.matmul(\n",
        "    x_1,\n",
        "    x_2,\n",
        "    transpose_a=False,\n",
        "    transpose_b=False,\n",
        "    adjoint_a=False,\n",
        "    adjoint_b=False,\n",
        "    a_is_sparse=False,\n",
        "    b_is_sparse=False,\n",
        "    output_type=None,\n",
        "    name=None\n",
        ")"
      ]
    },
    {
      "cell_type": "code",
      "execution_count": 9,
      "metadata": {
        "colab": {
          "base_uri": "https://localhost:8080/"
        },
        "id": "wRLSHCOpKJtl",
        "outputId": "05d5ffa7-ad7b-4ac6-82c3-3de3b919a92f"
      },
      "outputs": [
        {
          "name": "stdout",
          "output_type": "stream",
          "text": [
            "tf.Tensor(\n",
            "[[ 7 12 -2  6]\n",
            " [22 36  1 16]], shape=(2, 4), dtype=int32)\n"
          ]
        }
      ],
      "source": [
        "print(x_1@x_2) # matrix multiplication (* for element-wise)"
      ]
    },
    {
      "cell_type": "markdown",
      "metadata": {
        "id": "rMrhovEYPNKC"
      },
      "source": [
        "Transpose"
      ]
    },
    {
      "cell_type": "code",
      "execution_count": 14,
      "metadata": {
        "colab": {
          "base_uri": "https://localhost:8080/"
        },
        "id": "tYJC5aFqLGGs",
        "outputId": "d0a433eb-0198-4e4d-f5b4-3e56d43832cf"
      },
      "outputs": [
        {
          "name": "stdout",
          "output_type": "stream",
          "text": [
            "(1, 3)\n",
            "tf.Tensor(\n",
            "[[1]\n",
            " [2]\n",
            " [0]], shape=(3, 1), dtype=int32)\n"
          ]
        }
      ],
      "source": [
        "# transpose\n",
        "x_1 = tf.constant([[1,2,0]])\n",
        "print(x_1.shape)\n",
        "\n",
        "tf.transpose(x_1)\n",
        "print(tf.transpose(x_1))"
      ]
    },
    {
      "cell_type": "code",
      "execution_count": 19,
      "metadata": {
        "colab": {
          "base_uri": "https://localhost:8080/"
        },
        "id": "EkjETOKqLcoh",
        "outputId": "b38821e0-3c97-4165-fdea-d455ffa7403e"
      },
      "outputs": [
        {
          "name": "stdout",
          "output_type": "stream",
          "text": [
            "(1, 3)\n",
            "(3, 4)\n",
            "(2, 4)\n",
            "tf.Tensor(\n",
            "[[ 9 17]\n",
            " [17 39]\n",
            " [14 31]], shape=(3, 2), dtype=int32)\n",
            "tf.Tensor(\n",
            "[[ 9 17]\n",
            " [17 39]\n",
            " [14 31]], shape=(3, 2), dtype=int32)\n"
          ]
        }
      ],
      "source": [
        "x_1 = tf.constant([[1,2,0]])\n",
        "x_2 = tf.constant([[1,2,0,2],\n",
        "                  [3,5,-1,2],\n",
        "                  [4,5,6,0]])\n",
        "x_3 = tf.constant([[1,2,0,2],\n",
        "                  [3,5,-1,2]])\n",
        "\n",
        "print(x_1.shape)\n",
        "print(x_2.shape) #(3,4)\n",
        "print(x_3.shape) #(2,4)\n",
        "\n",
        "# These are same\n",
        "print(x_2@tf.transpose(x_3))\n",
        "print(tf.linalg.matmul(\n",
        "    x_2,\n",
        "    x_3,\n",
        "    transpose_a=False,\n",
        "    transpose_b=True,\n",
        "    adjoint_a=False,\n",
        "    adjoint_b=False,\n",
        "    a_is_sparse=False,\n",
        "    b_is_sparse=False,\n",
        "    output_type=None,\n",
        "    name=None\n",
        "))"
      ]
    },
    {
      "cell_type": "code",
      "execution_count": null,
      "metadata": {
        "id": "CvWx0lu7L-SE"
      },
      "outputs": [],
      "source": [
        "x_2.T ## EagerTensor Error?"
      ]
    },
    {
      "cell_type": "code",
      "execution_count": 22,
      "metadata": {
        "colab": {
          "base_uri": "https://localhost:8080/"
        },
        "id": "pq4-764yMmNT",
        "outputId": "2ae3ad93-c848-4008-a4eb-ed78b47f9a47"
      },
      "outputs": [
        {
          "name": "stdout",
          "output_type": "stream",
          "text": [
            "(4, 2, 3)\n",
            "(4, 2, 3)\n"
          ]
        }
      ],
      "source": [
        "## for 3d tensor\n",
        "x_1 = tf.constant([\n",
        "    [[1,2,0],\n",
        "    [3,5,-1]],\n",
        "\n",
        "    [[10,2,0],\n",
        "     [1,0,2]],\n",
        "\n",
        "    [[5,8,0],\n",
        "     [2,7,0]],\n",
        "\n",
        "    [[2,1,9],\n",
        "     [4,-3,32]]\n",
        "\n",
        "])\n",
        "\n",
        "print(x_1.shape)\n",
        "\n",
        "x_2 = tf.constant([\n",
        "    [[5,1,4],\n",
        "    [34,15,1]],\n",
        "\n",
        "    [[10,2,0],\n",
        "     [1,0,2]],\n",
        "\n",
        "    [[5,8,0],\n",
        "     [2,7,0]],\n",
        "\n",
        "    [[2,1,9],\n",
        "     [4,-3,32]]\n",
        "\n",
        "])\n",
        "\n",
        "print(x_2.shape)"
      ]
    },
    {
      "cell_type": "markdown",
      "metadata": {
        "id": "Zxpie_D7PIjR"
      },
      "source": [
        "Matmul in batch"
      ]
    },
    {
      "cell_type": "code",
      "execution_count": null,
      "metadata": {
        "id": "8HqzI0VAMuoU"
      },
      "outputs": [],
      "source": [
        "# When matmul is done in batches, look at each batch and do matmul\n",
        "# make sure each batches are multipliable\n",
        "# batch is the one in axis 0\n",
        "tf.linalg.matmul(x_1, x_2)\n",
        "\n",
        "# Currently, (2,3)@(2,3) incompatible"
      ]
    },
    {
      "cell_type": "code",
      "execution_count": 25,
      "metadata": {
        "colab": {
          "base_uri": "https://localhost:8080/"
        },
        "id": "QsPbxVlqONKL",
        "outputId": "e09144ca-c1ff-4e42-ac47-9d34334e3421"
      },
      "outputs": [
        {
          "name": "stdout",
          "output_type": "stream",
          "text": [
            "(4, 2, 2)\n",
            "(4, 2, 3)\n"
          ]
        }
      ],
      "source": [
        "x_1 = tf.constant([\n",
        "    [[1,2],\n",
        "    [3,5]],\n",
        "\n",
        "    [[10,2],\n",
        "     [1,0]],\n",
        "\n",
        "    [[5,8],\n",
        "     [2,7]],\n",
        "\n",
        "    [[2,1],\n",
        "     [4,-3]]\n",
        "\n",
        "])\n",
        "\n",
        "print(x_1.shape)\n",
        "\n",
        "x_2 = tf.constant([\n",
        "    [[5,1,4],\n",
        "    [34,15,1]],\n",
        "\n",
        "    [[10,2,0],\n",
        "     [1,0,2]],\n",
        "\n",
        "    [[5,8,0],\n",
        "     [2,7,0]],\n",
        "\n",
        "    [[2,1,9],\n",
        "     [4,-3,32]]\n",
        "\n",
        "])\n",
        "print(x_2.shape)"
      ]
    },
    {
      "cell_type": "code",
      "execution_count": 26,
      "metadata": {
        "colab": {
          "base_uri": "https://localhost:8080/"
        },
        "id": "rIE1Ky3FOa4i",
        "outputId": "435c25c6-d35b-47c9-c209-097a6c976ebc"
      },
      "outputs": [
        {
          "data": {
            "text/plain": [
              "<tf.Tensor: shape=(4, 2, 3), dtype=int32, numpy=\n",
              "array([[[ 73,  31,   6],\n",
              "        [185,  78,  17]],\n",
              "\n",
              "       [[102,  20,   4],\n",
              "        [ 10,   2,   0]],\n",
              "\n",
              "       [[ 41,  96,   0],\n",
              "        [ 24,  65,   0]],\n",
              "\n",
              "       [[  8,  -1,  50],\n",
              "        [ -4,  13, -60]]], dtype=int32)>"
            ]
          },
          "execution_count": 26,
          "metadata": {},
          "output_type": "execute_result"
        }
      ],
      "source": [
        "# (2,2)@(2,3) is compatible\n",
        "tf.linalg.matmul(x_1, x_2)"
      ]
    },
    {
      "cell_type": "markdown",
      "metadata": {
        "id": "WQ5-fuuWPdxU"
      },
      "source": [
        "Sparse tensors"
      ]
    },
    {
      "cell_type": "code",
      "execution_count": 30,
      "metadata": {
        "colab": {
          "base_uri": "https://localhost:8080/"
        },
        "id": "ecItk9sXPdGG",
        "outputId": "4d8be79d-a6a3-4356-a5db-b47dd249fe2b"
      },
      "outputs": [
        {
          "name": "stdout",
          "output_type": "stream",
          "text": [
            "tf.Tensor(\n",
            "[[0 0 0]\n",
            " [0 0 0]], shape=(2, 3), dtype=int32)\n"
          ]
        }
      ],
      "source": [
        "# There will be many cased when tensors are mostly made of zeros.\n",
        "x_1 = tf.constant([[0,0],\n",
        "                  [0,2]])\n",
        "x_2 = tf.constant([[1,0,0],\n",
        "                   [0,0,0]])\n",
        "\n",
        "print(tf.linalg.matmul(x_1, x_2, a_is_sparse=True, b_is_sparse=True))\n",
        "# Faster operation by telling it's sparse matrix"
      ]
    },
    {
      "cell_type": "markdown",
      "metadata": {
        "id": "0fhNHa83QvHZ"
      },
      "source": [
        "### tf.linalg.band_part"
      ]
    }
  ],
  "metadata": {
    "colab": {
      "provenance": []
    },
    "kernelspec": {
      "display_name": "Python 3",
      "name": "python3"
    },
    "language_info": {
      "name": "python"
    }
  },
  "nbformat": 4,
  "nbformat_minor": 0
}