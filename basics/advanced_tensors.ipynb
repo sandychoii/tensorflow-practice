{
  "nbformat": 4,
  "nbformat_minor": 0,
  "metadata": {
    "colab": {
      "provenance": []
    },
    "kernelspec": {
      "name": "python3",
      "display_name": "Python 3"
    },
    "language_info": {
      "name": "python"
    }
  },
  "cells": [
    {
      "cell_type": "code",
      "source": [
        "import tensorflow as tf"
      ],
      "metadata": {
        "id": "doAGxG3eIhUy"
      },
      "execution_count": null,
      "outputs": []
    },
    {
      "cell_type": "markdown",
      "source": [
        "## Ragged Tensor\n",
        "\n",
        "https://www.tensorflow.org/guide/ragged_tensor"
      ],
      "metadata": {
        "id": "9CTvnUWxIXCs"
      }
    },
    {
      "cell_type": "markdown",
      "source": [
        "- Variable-length features, such as the set of actors in a movie.\n",
        "- Batches of variable-length sequential inputs, such as sentences or video clips.\n",
        "- Hierarchical inputs, such as text documents that are subdivided into sections, paragraphs, sentences, and words.\n",
        "- Individual fields in structured inputs, such as protocol buffers."
      ],
      "metadata": {
        "id": "hez64W5nI7n1"
      }
    },
    {
      "cell_type": "code",
      "source": [
        "tensor_two_d = tf.constant([\n",
        "    [1,2,0],\n",
        "    [3,5,-1],\n",
        "    [1,5,6],\n",
        "    [2,3,8]\n",
        "])\n",
        "tensor_two_d.shape"
      ],
      "metadata": {
        "colab": {
          "base_uri": "https://localhost:8080/"
        },
        "id": "t-enfDyhIWn3",
        "outputId": "fe2846f8-1814-4baa-a048-ea42adf0981a"
      },
      "execution_count": null,
      "outputs": [
        {
          "output_type": "execute_result",
          "data": {
            "text/plain": [
              "TensorShape([4, 3])"
            ]
          },
          "metadata": {},
          "execution_count": 3
        }
      ]
    },
    {
      "cell_type": "code",
      "execution_count": null,
      "metadata": {
        "colab": {
          "base_uri": "https://localhost:8080/"
        },
        "id": "SxO3_dZtIV7_",
        "outputId": "55510cd4-a332-40f6-8e8a-44036dd780b3"
      },
      "outputs": [
        {
          "output_type": "execute_result",
          "data": {
            "text/plain": [
              "TensorShape([4, None])"
            ]
          },
          "metadata": {},
          "execution_count": 4
        }
      ],
      "source": [
        "tensor_two_d = [\n",
        "    [1,2,0],\n",
        "    [3,],\n",
        "    [1,5,6],\n",
        "    [2,3]\n",
        "]\n",
        "\n",
        "tensor_ragged = tf.ragged.constant(tensor_two_d)\n",
        "tensor_ragged.shape"
      ]
    },
    {
      "cell_type": "code",
      "source": [
        "tensor_ragged"
      ],
      "metadata": {
        "colab": {
          "base_uri": "https://localhost:8080/"
        },
        "id": "XCMOCtJkI3Fu",
        "outputId": "7317aa31-8cae-431e-c69f-534b777559a8"
      },
      "execution_count": null,
      "outputs": [
        {
          "output_type": "execute_result",
          "data": {
            "text/plain": [
              "<tf.RaggedTensor [[1, 2, 0], [3], [1, 5, 6], [2, 3]]>"
            ]
          },
          "metadata": {},
          "execution_count": 5
        }
      ]
    },
    {
      "cell_type": "markdown",
      "source": [
        "tf.RaggedTensor\n",
        "\n",
        "https://www.tensorflow.org/api_docs/python/tf/RaggedTensor"
      ],
      "metadata": {
        "id": "0V1CCzQfJe-E"
      }
    },
    {
      "cell_type": "code",
      "source": [
        "values = [3, 1, 4, 1, 5, 9, 2, 6]\n",
        "tf.RaggedTensor.from_row_lengths(values, row_lengths=[4, 0, 3, 1, 0])"
      ],
      "metadata": {
        "colab": {
          "base_uri": "https://localhost:8080/"
        },
        "id": "u4Zqv_okKBtC",
        "outputId": "9fadc03f-85a5-4080-c6f3-f08b9e74c2b7"
      },
      "execution_count": null,
      "outputs": [
        {
          "output_type": "execute_result",
          "data": {
            "text/plain": [
              "<tf.RaggedTensor [[3, 1, 4, 1], [], [5, 9, 2], [6], []]>"
            ]
          },
          "metadata": {},
          "execution_count": 7
        }
      ]
    },
    {
      "cell_type": "code",
      "source": [
        "tf.RaggedTensor.from_row_limits(values, row_limits=[4, 4, 7, 8, 8])"
      ],
      "metadata": {
        "colab": {
          "base_uri": "https://localhost:8080/"
        },
        "id": "gYFXxrqfKhS5",
        "outputId": "28d22959-46d0-4284-9851-65a20b863acb"
      },
      "execution_count": null,
      "outputs": [
        {
          "output_type": "execute_result",
          "data": {
            "text/plain": [
              "<tf.RaggedTensor [[3, 1, 4, 1], [], [5, 9, 2], [6], []]>"
            ]
          },
          "metadata": {},
          "execution_count": 8
        }
      ]
    },
    {
      "cell_type": "code",
      "source": [
        "print(tf.RaggedTensor.from_row_splits(\n",
        "      values=[3, 1, 4, 1, 5, 9, 2, 6],\n",
        "      row_splits=[0, 4, 4, 7, 8, 8]))"
      ],
      "metadata": {
        "colab": {
          "base_uri": "https://localhost:8080/"
        },
        "id": "tIPlR3hyJFK3",
        "outputId": "63925903-149b-4795-b49c-89e360a471d9"
      },
      "execution_count": null,
      "outputs": [
        {
          "output_type": "stream",
          "name": "stdout",
          "text": [
            "<tf.RaggedTensor [[3, 1, 4, 1], [], [5, 9, 2], [6], []]>\n"
          ]
        }
      ]
    },
    {
      "cell_type": "code",
      "source": [
        "dt = tf.constant([[5, 7, 0], [0, 3, 0], [6, 0, 0]])\n",
        "tf.RaggedTensor.from_tensor(dt)"
      ],
      "metadata": {
        "colab": {
          "base_uri": "https://localhost:8080/"
        },
        "id": "XYkCdkg2JsEZ",
        "outputId": "693ddd84-266f-4702-c5c3-fa1c609b471e"
      },
      "execution_count": null,
      "outputs": [
        {
          "output_type": "execute_result",
          "data": {
            "text/plain": [
              "<tf.RaggedTensor [[5, 7, 0],\n",
              " [0, 3, 0],\n",
              " [6, 0, 0]]>"
            ]
          },
          "metadata": {},
          "execution_count": 9
        }
      ]
    },
    {
      "cell_type": "code",
      "source": [
        "tf.RaggedTensor.from_tensor(dt, lengths=[1, 0, 3])"
      ],
      "metadata": {
        "colab": {
          "base_uri": "https://localhost:8080/"
        },
        "id": "UaSHa0qxLEq-",
        "outputId": "b85b6993-189e-44b1-ced6-afc9653e3502"
      },
      "execution_count": null,
      "outputs": [
        {
          "output_type": "execute_result",
          "data": {
            "text/plain": [
              "<tf.RaggedTensor [[5], [], [6, 0, 0]]>"
            ]
          },
          "metadata": {},
          "execution_count": 10
        }
      ]
    },
    {
      "cell_type": "markdown",
      "source": [
        "## Sparse Tensors\n",
        "\n",
        "https://www.tensorflow.org/guide/sparse_tensor"
      ],
      "metadata": {
        "id": "0m7McggRLN9w"
      }
    },
    {
      "cell_type": "code",
      "source": [
        "## efficient way to deal with tensor with many zeros\n",
        "tensor_sparse = tf.sparse.SparseTensor(\n",
        "    indices=[[1,1],[3,4]], values=[11,56], dense_shape=[5,6]\n",
        ")\n",
        "print(tensor_sparse)"
      ],
      "metadata": {
        "colab": {
          "base_uri": "https://localhost:8080/"
        },
        "id": "yRgbC8ChLFXN",
        "outputId": "139ed79f-8922-4135-d87a-4d3dca6555a0"
      },
      "execution_count": null,
      "outputs": [
        {
          "output_type": "stream",
          "name": "stdout",
          "text": [
            "SparseTensor(indices=tf.Tensor(\n",
            "[[1 1]\n",
            " [3 4]], shape=(2, 2), dtype=int64), values=tf.Tensor([11 56], shape=(2,), dtype=int32), dense_shape=tf.Tensor([5 6], shape=(2,), dtype=int64))\n"
          ]
        }
      ]
    },
    {
      "cell_type": "code",
      "source": [
        "tf.sparse.to_dense(tensor_sparse) # values will be located, in position (1,1) (3,4)"
      ],
      "metadata": {
        "colab": {
          "base_uri": "https://localhost:8080/"
        },
        "id": "dElQ0AzcL3_r",
        "outputId": "b8c82490-610d-4637-db15-e26f319b769e"
      },
      "execution_count": null,
      "outputs": [
        {
          "output_type": "execute_result",
          "data": {
            "text/plain": [
              "<tf.Tensor: shape=(5, 6), dtype=int32, numpy=\n",
              "array([[ 0,  0,  0,  0,  0,  0],\n",
              "       [ 0, 11,  0,  0,  0,  0],\n",
              "       [ 0,  0,  0,  0,  0,  0],\n",
              "       [ 0,  0,  0,  0, 56,  0],\n",
              "       [ 0,  0,  0,  0,  0,  0]], dtype=int32)>"
            ]
          },
          "metadata": {},
          "execution_count": 14
        }
      ]
    },
    {
      "cell_type": "markdown",
      "source": [
        "## String Tensors\n",
        "\n",
        "https://www.tensorflow.org/api_docs/python/tf/strings"
      ],
      "metadata": {
        "id": "b90Um1XoMR6Q"
      }
    },
    {
      "cell_type": "code",
      "source": [
        "tensor_string = tf.constant([\"hello\", \"i am\", \"a string\"])\n",
        "print(tensor_string)"
      ],
      "metadata": {
        "colab": {
          "base_uri": "https://localhost:8080/"
        },
        "id": "kj7YCHMjMC4E",
        "outputId": "1bb85788-aad3-4a59-dc71-ddaaf4da6256"
      },
      "execution_count": null,
      "outputs": [
        {
          "output_type": "stream",
          "name": "stdout",
          "text": [
            "tf.Tensor([b'hello' b'i am' b'a string'], shape=(3,), dtype=string)\n"
          ]
        }
      ]
    },
    {
      "cell_type": "code",
      "source": [
        "tf.strings.join(tensor_string, separator=\" \")"
      ],
      "metadata": {
        "colab": {
          "base_uri": "https://localhost:8080/"
        },
        "id": "TryjFgj5Mgf4",
        "outputId": "d063e6bf-e4b5-49e3-b69f-64590199eab9"
      },
      "execution_count": null,
      "outputs": [
        {
          "output_type": "execute_result",
          "data": {
            "text/plain": [
              "<tf.Tensor: shape=(), dtype=string, numpy=b'hello i am a string'>"
            ]
          },
          "metadata": {},
          "execution_count": 19
        }
      ]
    },
    {
      "cell_type": "code",
      "source": [],
      "metadata": {
        "id": "PZ_1gi-0MuJZ"
      },
      "execution_count": null,
      "outputs": []
    }
  ]
}