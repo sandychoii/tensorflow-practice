{
  "nbformat": 4,
  "nbformat_minor": 0,
  "metadata": {
    "colab": {
      "provenance": []
    },
    "kernelspec": {
      "name": "python3",
      "display_name": "Python 3"
    },
    "language_info": {
      "name": "python"
    }
  },
  "cells": [
    {
      "cell_type": "markdown",
      "source": [
        "Tensor contraction over specified indices and outer product.\n",
        "\n",
        "https://www.tensorflow.org/api_docs/python/tf/einsum\n"
      ],
      "metadata": {
        "id": "NY8UXuXQJgr0"
      }
    },
    {
      "cell_type": "markdown",
      "source": [
        "Related readings\n",
        "\n",
        "\n",
        "*  https://ita9naiwa.github.io/numeric%20calculation/2018/11/10/Einsum.html\n",
        "\n"
      ],
      "metadata": {
        "id": "WmVyqQSjInTn"
      }
    },
    {
      "cell_type": "code",
      "execution_count": 6,
      "metadata": {
        "id": "WSVYUC-aFgnK"
      },
      "outputs": [],
      "source": [
        "import tensorflow as tf"
      ]
    },
    {
      "cell_type": "markdown",
      "source": [
        "### matmul"
      ],
      "metadata": {
        "id": "B6yCQGivIyWV"
      }
    },
    {
      "cell_type": "code",
      "source": [
        "A = tf.constant([[2,6,5,2],\n",
        "              [2,-2,2,3],\n",
        "              [1,5,4,0]])\n",
        "B = tf.constant([[2,9,0,3,0],\n",
        "              [3,6,8,-2,2],\n",
        "              [1,3,5,0,1],\n",
        "              [3,0,2,0,5]])\n",
        "\n",
        "print(A.shape)\n",
        "print(B.shape)\n",
        "\n",
        "print(\"Matmul C =:\\n\")\n",
        "print(tf.matmul(A,B), \"\\n\")\n",
        "\n",
        "print(\"Einsum C =:\\n\" )\n",
        "print(tf.einsum(\"ij,jk -> ik\", A, B))"
      ],
      "metadata": {
        "colab": {
          "base_uri": "https://localhost:8080/"
        },
        "id": "GBlZvwwUF_Fs",
        "outputId": "5eaae97b-b588-4bb0-d689-1726641c35ce"
      },
      "execution_count": 7,
      "outputs": [
        {
          "output_type": "stream",
          "name": "stdout",
          "text": [
            "(3, 4)\n",
            "(4, 5)\n",
            "Matmul C =:\n",
            "\n",
            "tf.Tensor(\n",
            "[[33 69 77 -6 27]\n",
            " [ 9 12  0 10 13]\n",
            " [21 51 60 -7 14]], shape=(3, 5), dtype=int32) \n",
            "\n",
            "Einsum C =:\n",
            "\n",
            "tf.Tensor(\n",
            "[[33 69 77 -6 27]\n",
            " [ 9 12  0 10 13]\n",
            " [21 51 60 -7 14]], shape=(3, 5), dtype=int32)\n"
          ]
        }
      ]
    },
    {
      "cell_type": "markdown",
      "source": [
        "### element-wise multiplication"
      ],
      "metadata": {
        "id": "NVmVU9ntI1MV"
      }
    },
    {
      "cell_type": "code",
      "source": [
        "A = tf.constant([[2,6,5,2],\n",
        "              [2,-2,2,3],\n",
        "              [1,5,4,0]])\n",
        "B = tf.constant([[2,9,0,3],\n",
        "              [3,6,8,-2],\n",
        "              [1,3,5,0]])\n",
        "print(A.shape, B.shape)\n",
        "\n",
        "print(\"Hardamond C =: \\n\")\n",
        "print(A*B, \"\\n\")\n",
        "\n",
        "print(\"Einsum C =:\\n\" )\n",
        "print(tf.einsum(\"ij,ij -> ij\", A, B))"
      ],
      "metadata": {
        "colab": {
          "base_uri": "https://localhost:8080/"
        },
        "id": "QYi0YXgyGnUl",
        "outputId": "e5317eb8-e436-4b52-a989-38cede0e37d3"
      },
      "execution_count": 9,
      "outputs": [
        {
          "output_type": "stream",
          "name": "stdout",
          "text": [
            "(3, 4) (3, 4)\n",
            "Hardamond C =: \n",
            "\n",
            "tf.Tensor(\n",
            "[[  4  54   0   6]\n",
            " [  6 -12  16  -6]\n",
            " [  1  15  20   0]], shape=(3, 4), dtype=int32) \n",
            "\n",
            "Einsum C =:\n",
            "\n",
            "tf.Tensor(\n",
            "[[  4  54   0   6]\n",
            " [  6 -12  16  -6]\n",
            " [  1  15  20   0]], shape=(3, 4), dtype=int32)\n"
          ]
        }
      ]
    },
    {
      "cell_type": "markdown",
      "source": [
        "### Transpose"
      ],
      "metadata": {
        "id": "FDJNlbzgJvvW"
      }
    },
    {
      "cell_type": "code",
      "source": [
        "A = tf.constant([[2,6,5,2],\n",
        "              [2,-2,2,3],\n",
        "              [1,5,4,0]])\n",
        "\n",
        "print(\"Transposed A =: \\n\")\n",
        "print(tf.transpose(A), \"\\n\")\n",
        "\n",
        "print(\"Einsum Transpose A =:\\n\" )\n",
        "print(tf.einsum(\"ij -> ji\", A))"
      ],
      "metadata": {
        "colab": {
          "base_uri": "https://localhost:8080/"
        },
        "id": "ktQzNPH0JFu1",
        "outputId": "50c61013-92b2-4f57-e5cf-3dbca6904d31"
      },
      "execution_count": 12,
      "outputs": [
        {
          "output_type": "stream",
          "name": "stdout",
          "text": [
            "Transposed A =: \n",
            "\n",
            "tf.Tensor(\n",
            "[[ 2  2  1]\n",
            " [ 6 -2  5]\n",
            " [ 5  2  4]\n",
            " [ 2  3  0]], shape=(4, 3), dtype=int32) \n",
            "\n",
            "Einsum C =:\n",
            "\n",
            "tf.Tensor(\n",
            "[[ 2  2  1]\n",
            " [ 6 -2  5]\n",
            " [ 5  2  4]\n",
            " [ 2  3  0]], shape=(4, 3), dtype=int32)\n"
          ]
        }
      ]
    },
    {
      "cell_type": "markdown",
      "source": [
        "### Batch Multiplication (3D)"
      ],
      "metadata": {
        "id": "TaWKjrHkKaBO"
      }
    },
    {
      "cell_type": "code",
      "source": [
        "A = tf.constant([\n",
        "              [[2,6,5,2],\n",
        "              [2,-2,2,3],\n",
        "              [1,5,4,0]],\n",
        "              [[1,3,1,22],\n",
        "               [0,2,2,0],\n",
        "               [1,5,4,1]]\n",
        "              ])\n",
        "B = tf.constant([\n",
        "                [[2,9,0,3,0],\n",
        "                [3,6,8,-2,2],\n",
        "                [1,3,5,0,1],\n",
        "                [3,0,2,0,5]],\n",
        "                [[1,0,0,3,0],\n",
        "                [3,0,4,-2,2],\n",
        "                [1,0,2,0,0],\n",
        "                [3,0,1,1,0]]])\n",
        "print(A.shape, B.shape)\n",
        "\n",
        "print(\"Batch Matmul C =:\\n\")\n",
        "print(tf.matmul(A,B), \"\\n\")\n",
        "\n",
        "print(\"Batch Einsum C =:\\n\" )\n",
        "print(tf.einsum(\"bij,bjk -> bik\", A, B))"
      ],
      "metadata": {
        "colab": {
          "base_uri": "https://localhost:8080/"
        },
        "id": "CMsnCmJhJ4ff",
        "outputId": "ec778995-cff4-4179-8815-84411839701a"
      },
      "execution_count": 14,
      "outputs": [
        {
          "output_type": "stream",
          "name": "stdout",
          "text": [
            "(2, 3, 4) (2, 4, 5)\n",
            "Batch Matmul C =:\n",
            "\n",
            "tf.Tensor(\n",
            "[[[33 69 77 -6 27]\n",
            "  [ 9 12  0 10 13]\n",
            "  [21 51 60 -7 14]]\n",
            "\n",
            " [[77  0 36 19  6]\n",
            "  [ 8  0 12 -4  4]\n",
            "  [23  0 29 -6 10]]], shape=(2, 3, 5), dtype=int32) \n",
            "\n",
            "Batch Einsum C =:\n",
            "\n",
            "tf.Tensor(\n",
            "[[[33 69 77 -6 27]\n",
            "  [ 9 12  0 10 13]\n",
            "  [21 51 60 -7 14]]\n",
            "\n",
            " [[77  0 36 19  6]\n",
            "  [ 8  0 12 -4  4]\n",
            "  [23  0 29 -6 10]]], shape=(2, 3, 5), dtype=int32)\n"
          ]
        }
      ]
    },
    {
      "cell_type": "markdown",
      "source": [
        "### Sum"
      ],
      "metadata": {
        "id": "H3QtMOOBLkyN"
      }
    },
    {
      "cell_type": "code",
      "source": [
        "A = tf.constant([\n",
        "              [[2,6,5,2],\n",
        "              [2,-2,2,3],\n",
        "              [1,5,4,0]],\n",
        "              [[1,3,1,22],\n",
        "               [0,2,2,0],\n",
        "               [1,5,4,1]]\n",
        "              ])\n",
        "\n",
        "print(\"Sum A =:\\n\")\n",
        "print(tf.math.reduce_sum(A), \"\\n\")\n",
        "\n",
        "print(\"Einsum A =:\\n\" )\n",
        "print(tf.einsum(\"bij ->\", A)) # if summing up all possible elements, keep it empty after arrow"
      ],
      "metadata": {
        "colab": {
          "base_uri": "https://localhost:8080/"
        },
        "id": "K4RyLnz1LTZl",
        "outputId": "e64daab0-c327-444d-8265-0037970a71c7"
      },
      "execution_count": 19,
      "outputs": [
        {
          "output_type": "stream",
          "name": "stdout",
          "text": [
            "Sum A =:\n",
            "\n",
            "tf.Tensor(72, shape=(), dtype=int32) \n",
            "\n",
            "Einsum A =:\n",
            "\n",
            "tf.Tensor(72, shape=(), dtype=int32)\n"
          ]
        }
      ]
    },
    {
      "cell_type": "code",
      "source": [
        "A = tf.constant([[2,6,5,2],\n",
        "              [2,-2,2,3],\n",
        "              [1,5,4,0]])\n",
        "\n",
        "print(\"Sum up all colums of A =:\\n\")\n",
        "print(tf.math.reduce_sum(A, axis=0), '\\n') # fixing axis 0\n",
        "\n",
        "print(\"Einsum A =:\\n\")\n",
        "print(tf.einsum('ij -> j', A)) # this means summing up all the columns"
      ],
      "metadata": {
        "colab": {
          "base_uri": "https://localhost:8080/"
        },
        "id": "TPRFZ8qnL_kE",
        "outputId": "f3ef1e52-c6ad-4e6e-b7de-0d321a900a8c"
      },
      "execution_count": 23,
      "outputs": [
        {
          "output_type": "stream",
          "name": "stdout",
          "text": [
            "Sum up all colums of A =:\n",
            "\n",
            "tf.Tensor([ 5  9 11  5], shape=(4,), dtype=int32) \n",
            "\n",
            "Einsum A =:\n",
            "\n",
            "tf.Tensor([ 5  9 11  5], shape=(4,), dtype=int32)\n"
          ]
        }
      ]
    },
    {
      "cell_type": "markdown",
      "source": [
        "### Attention"
      ],
      "metadata": {
        "id": "sHtuF7tBNoME"
      }
    },
    {
      "cell_type": "code",
      "source": [
        "Q = tf.random.normal((32, 64, 512))\n",
        "K = tf.random.normal((32, 128, 512)) # need to be transposed\n",
        "#bqm,bkm -> qm,km -> qm,mk -> qk"
      ],
      "metadata": {
        "id": "riN8-o4KM7vp"
      },
      "execution_count": 26,
      "outputs": []
    },
    {
      "cell_type": "code",
      "source": [
        "tf.einsum(\"bqm, bkm -> bqk\", Q, K).shape"
      ],
      "metadata": {
        "colab": {
          "base_uri": "https://localhost:8080/"
        },
        "id": "nBaTyoFHNwwI",
        "outputId": "f51ebd07-c000-4ec5-ec71-d4deadf74100"
      },
      "execution_count": 29,
      "outputs": [
        {
          "output_type": "execute_result",
          "data": {
            "text/plain": [
              "TensorShape([32, 64, 128])"
            ]
          },
          "metadata": {},
          "execution_count": 29
        }
      ]
    },
    {
      "cell_type": "markdown",
      "source": [
        "### Reformer"
      ],
      "metadata": {
        "id": "rOBWspddOxHD"
      }
    },
    {
      "cell_type": "markdown",
      "source": [
        "https://ai.googleblog.com/2020/01/reformer-efficient-transformer.html"
      ],
      "metadata": {
        "id": "wJ0XoSJtP-I0"
      }
    },
    {
      "cell_type": "code",
      "source": [
        "A = tf.random.normal((2,4,4,2)) # bcij\n",
        "B = tf.random.normal((2,4,4,1)) # bcik"
      ],
      "metadata": {
        "id": "0Bl8oxGcOnD6"
      },
      "execution_count": 30,
      "outputs": []
    },
    {
      "cell_type": "code",
      "source": [
        "tf.einsum(\"bcik,bcij -> bckj\", B, A).shape"
      ],
      "metadata": {
        "colab": {
          "base_uri": "https://localhost:8080/"
        },
        "id": "ennwWTxhPT7q",
        "outputId": "3ac481e0-85ed-4aba-8cb8-6da4f3f22950"
      },
      "execution_count": 32,
      "outputs": [
        {
          "output_type": "execute_result",
          "data": {
            "text/plain": [
              "TensorShape([2, 4, 1, 2])"
            ]
          },
          "metadata": {},
          "execution_count": 32
        }
      ]
    },
    {
      "cell_type": "code",
      "source": [
        "tf.matmul(tf.transpose(B, (0,1,3,2)), A)"
      ],
      "metadata": {
        "colab": {
          "base_uri": "https://localhost:8080/"
        },
        "id": "Fcr6HDp9Pc33",
        "outputId": "f026b9fe-3f07-4c3b-81a8-3a264f33573f"
      },
      "execution_count": 34,
      "outputs": [
        {
          "output_type": "execute_result",
          "data": {
            "text/plain": [
              "<tf.Tensor: shape=(2, 4, 1, 2), dtype=float32, numpy=\n",
              "array([[[[-0.02408861, -0.49770772]],\n",
              "\n",
              "        [[-0.09428987, -0.20355959]],\n",
              "\n",
              "        [[-3.7941003 ,  1.3513222 ]],\n",
              "\n",
              "        [[-2.3759034 ,  0.85872626]]],\n",
              "\n",
              "\n",
              "       [[[-2.5640306 , -5.3546343 ]],\n",
              "\n",
              "        [[-1.9126546 , -2.592187  ]],\n",
              "\n",
              "        [[ 2.918517  , -0.0059047 ]],\n",
              "\n",
              "        [[ 3.4186466 , -2.4441628 ]]]], dtype=float32)>"
            ]
          },
          "metadata": {},
          "execution_count": 34
        }
      ]
    },
    {
      "cell_type": "code",
      "source": [
        "# using einsum is much cleaner\n",
        "A = tf.random.normal((2,4,5,4,2)) # bcij\n",
        "B = tf.random.normal((2,4,5,4,1)) # bcik\n",
        "tf.einsum(\"bcdik,bcdij -> bcdkj\", B, A).shape"
      ],
      "metadata": {
        "colab": {
          "base_uri": "https://localhost:8080/"
        },
        "id": "cTP0p7QUQIhm",
        "outputId": "899cb6e4-bb11-43bf-975c-f2be242b9590"
      },
      "execution_count": 35,
      "outputs": [
        {
          "output_type": "execute_result",
          "data": {
            "text/plain": [
              "TensorShape([2, 4, 5, 1, 2])"
            ]
          },
          "metadata": {},
          "execution_count": 35
        }
      ]
    },
    {
      "cell_type": "code",
      "source": [],
      "metadata": {
        "id": "g8qBcuAmQg3J"
      },
      "execution_count": null,
      "outputs": []
    }
  ]
}