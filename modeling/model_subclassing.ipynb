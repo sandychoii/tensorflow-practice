{
  "nbformat": 4,
  "nbformat_minor": 0,
  "metadata": {
    "colab": {
      "provenance": []
    },
    "kernelspec": {
      "name": "python3",
      "display_name": "Python 3"
    },
    "language_info": {
      "name": "python"
    }
  },
  "cells": [
    {
      "cell_type": "markdown",
      "source": [
        "## Data Preparation"
      ],
      "metadata": {
        "id": "oqrW9svIrrJg"
      }
    },
    {
      "cell_type": "code",
      "source": [
        "import tensorflow as tf\n",
        "import numpy as np\n",
        "import matplotlib.pyplot as plt\n",
        "import tensorflow_datasets as tfds\n",
        "\n",
        "from tensorflow.keras.models import Model\n",
        "from tensorflow.keras.layers import Layer\n",
        "\n",
        "from tensorflow.keras.layers import InputLayer, Conv2D, MaxPool2D, Flatten, Dense, BatchNormalization, Input\n",
        "from tensorflow.keras.optimizers import Adam\n",
        "from tensorflow.keras.losses import BinaryCrossentropy"
      ],
      "metadata": {
        "id": "T7IMUU-ydIVh"
      },
      "execution_count": 1,
      "outputs": []
    },
    {
      "cell_type": "code",
      "source": [
        "dataset, dataset_info = tfds.load('malaria', with_info=True, as_supervised=True, split=['train'], shuffle_files=True)\n",
        "\n",
        "TRAIN_RATIO = 0.6\n",
        "VAL_RATIO = 0.2\n",
        "TEST_RATIO = 0.2\n",
        "\n",
        "def splits(dataset, TRAIN_RATIO, VAL_RATIO, TEST_RATIO):\n",
        "  DATASET_SIZE = len(dataset)\n",
        "  train_dataset = dataset.take(int(TRAIN_RATIO*DATASET_SIZE))\n",
        "\n",
        "  val_test_dataset = dataset.skip(int(TRAIN_RATIO*DATASET_SIZE))\n",
        "  val_dataset = val_test_dataset.take(int(VAL_RATIO*DATASET_SIZE))\n",
        "\n",
        "  test_dataset = val_test_dataset.skip(int(VAL_RATIO*DATASET_SIZE))\n",
        "  return train_dataset, val_dataset, test_dataset\n",
        "\n",
        "train_dataset, val_dataset, test_dataset = splits(dataset[0], TRAIN_RATIO, VAL_RATIO, TEST_RATIO)\n",
        "\n",
        "IM_SIZE = 224\n",
        "def resize_rescale(image, label):\n",
        "  return tf.image.resize(image, (IM_SIZE, IM_SIZE))/255.0, label\n",
        "\n",
        "train_dataset = train_dataset.map(resize_rescale)\n",
        "val_dataset = val_dataset.map(resize_rescale)\n",
        "test_dataset = test_dataset.map(resize_rescale)\n",
        "\n",
        "BATCH_SIZE = 32\n",
        "train_dataset = train_dataset.shuffle(buffer_size=8, reshuffle_each_iteration=True).batch(BATCH_SIZE).prefetch(tf.data.AUTOTUNE)\n",
        "val_dataset = val_dataset.shuffle(buffer_size=8).batch(BATCH_SIZE)\n",
        "test_dataset = test_dataset.shuffle(buffer_size=8).batch(BATCH_SIZE)"
      ],
      "metadata": {
        "colab": {
          "base_uri": "https://localhost:8080/",
          "height": 169,
          "referenced_widgets": [
            "63cf785604874e9cbb9f7347a83d6847",
            "39eb6b926c524048b66ef23f771012e8",
            "b42d7b3c40894ba898c5994f9c24ad79",
            "3c89ebcd74ec4c73a7ef01c210a37133",
            "e7aeca1a3f5143aebcee664378b59a71",
            "a7647d8a6eb44cf8bcbfc604b96d43f6",
            "2a035626062045c181cc6cb999876298",
            "ea39046b6f2f49d1b4db0438f3bf3f61",
            "26ee973798944977acea88f1602b7461",
            "b65808248d934ac5988a445c25789320",
            "26ce12a718be4669ba6466cd4297befc",
            "2bfa9bdecd6849d4ac56e1be709f7428",
            "6200d904bb7547d19b2a7a982db7b448",
            "f07f6f0ebc384a2784495cb9927efa54",
            "cce284ae9f7d4190b579338dee3961f0",
            "cd5b9e8216a741889a0d623884c230fb",
            "518a03a57c3f4e62ae6492bd82c9edc6",
            "01c082dc243b4b62ad953492b87c4196",
            "4bc86dba882d455084081f27a1f7a314",
            "f09d950bc2864584b943a81043892f24",
            "94c74252d7d745938d667f630fae79d7",
            "5e5414bb9e5746048d8f831736b08852",
            "ce3680ce3dc54bc7a72193a29f11b1b0",
            "622f1d7fc45f430597eecacb6940742b",
            "c1e0efcabd434d84a26da3e3b493251a",
            "859e399f5f64474dbdeab3d7cc751495",
            "5a89d8d5519a4927a237e4ec0001b371",
            "1926161f73f34369b0b96ae23c7cac40",
            "7fcd5349e35f43a7b365cd28029072f3",
            "5a37405ba40b4e55b07909bb00ed5976",
            "c1cd72976a5f4a9da5208dfce28f98f4",
            "4b251e86ee0f4cf0a9a51da6bc020d9b",
            "e67281d5fdb74dbc9371dbb63a87cb8b",
            "33c93fd91eca441096dddad408795062",
            "88586fa7afb747f7b0274b3c648338da",
            "4af85002689f4abf84a895df7e86bce1",
            "127b321eaf6f435a83fb6119938e6a6c",
            "156c13ede3964211b2ec9611f8b487a8",
            "6ee9268de04949d6b0d0375a669adbe5",
            "5bf1b4028afc4d679ba8ba53ffb99dbf",
            "2b4bc2c961c74f0cbec0a3408fb2f257",
            "04f1541716d8465ebf99292c4660bf1e",
            "6d03901fb4df4974a66af76fb91f131a",
            "ef493e7400f04656b842bc39c43a486a",
            "15543fade03b44cfa28a858906d5337b",
            "db2d281589b14c33a277fc0c3a068038",
            "ff52d7c77e444925aa04cc5dccc9a131",
            "cabf7fd25a084544833c426b4fb1a2cf",
            "9d8bbd0293fe46c9b2b276a095f6733e",
            "0c855501800c478d9514146a05a269c0",
            "5ec97834a311402f8535fde341c2debc"
          ]
        },
        "id": "F7bNOfPOX33X",
        "outputId": "36d028ec-15c3-4559-c2f7-48de5fd535ef"
      },
      "execution_count": null,
      "outputs": [
        {
          "output_type": "stream",
          "name": "stdout",
          "text": [
            "Downloading and preparing dataset 337.08 MiB (download: 337.08 MiB, generated: Unknown size, total: 337.08 MiB) to /root/tensorflow_datasets/malaria/1.0.0...\n"
          ]
        },
        {
          "output_type": "display_data",
          "data": {
            "text/plain": [
              "Dl Completed...: 0 url [00:00, ? url/s]"
            ],
            "application/vnd.jupyter.widget-view+json": {
              "version_major": 2,
              "version_minor": 0,
              "model_id": "63cf785604874e9cbb9f7347a83d6847"
            }
          },
          "metadata": {}
        },
        {
          "output_type": "display_data",
          "data": {
            "text/plain": [
              "Dl Size...: 0 MiB [00:00, ? MiB/s]"
            ],
            "application/vnd.jupyter.widget-view+json": {
              "version_major": 2,
              "version_minor": 0,
              "model_id": "2bfa9bdecd6849d4ac56e1be709f7428"
            }
          },
          "metadata": {}
        },
        {
          "output_type": "display_data",
          "data": {
            "text/plain": [
              "Extraction completed...: 0 file [00:00, ? file/s]"
            ],
            "application/vnd.jupyter.widget-view+json": {
              "version_major": 2,
              "version_minor": 0,
              "model_id": "ce3680ce3dc54bc7a72193a29f11b1b0"
            }
          },
          "metadata": {}
        },
        {
          "output_type": "display_data",
          "data": {
            "text/plain": [
              "Generating train examples...:   0%|          | 0/27558 [00:00<?, ? examples/s]"
            ],
            "application/vnd.jupyter.widget-view+json": {
              "version_major": 2,
              "version_minor": 0,
              "model_id": "33c93fd91eca441096dddad408795062"
            }
          },
          "metadata": {}
        },
        {
          "output_type": "display_data",
          "data": {
            "text/plain": [
              "Shuffling /root/tensorflow_datasets/malaria/1.0.0.incompleteF1U6VM/malaria-train.tfrecord*...:   0%|          …"
            ],
            "application/vnd.jupyter.widget-view+json": {
              "version_major": 2,
              "version_minor": 0,
              "model_id": "2b4bc2c961c74f0cbec0a3408fb2f257"
            }
          },
          "metadata": {}
        },
        {
          "output_type": "stream",
          "name": "stdout",
          "text": [
            "Dataset malaria downloaded and prepared to /root/tensorflow_datasets/malaria/1.0.0. Subsequent calls will reuse this data.\n"
          ]
        }
      ]
    },
    {
      "cell_type": "markdown",
      "source": [
        "## Model Subclassing\n",
        "https://www.tensorflow.org/guide/keras/making_new_layers_and_models_via_subclassing\n",
        "- create recursively composable layers and models\n",
        "- auto layers, track the weights and bias of sublayers"
      ],
      "metadata": {
        "id": "ACrMECA_cqNo"
      }
    },
    {
      "cell_type": "code",
      "source": [
        "class FeatureExtractor(Layer):\n",
        "  def __init__(self, filters, kernel_size, strides, padding, activation, pool_size):\n",
        "    super(FeatureExtractor, self).__init__()\n",
        "\n",
        "    self.conv1 = Conv2D(filters=filters, kernel_size=kernel_size, strides=strides, padding=padding, activation=activation)\n",
        "    self.batch1 = BatchNormalization()\n",
        "    self.pool1 = MaxPool2D(pool_size=pool_size, strides=strides)\n",
        "\n",
        "    self.conv2 = Conv2D(filters=filters*2, kernel_size=kernel_size, strides=strides, padding=padding, activation=activation)\n",
        "    self.batch2 = BatchNormalization()\n",
        "    self.pool2 = MaxPool2D(pool_size=pool_size, strides=strides)\n",
        "\n",
        "  def call(self, x, training):\n",
        "    x = self.conv1(x)\n",
        "    x = self.batch1(x)\n",
        "    x = self.pool1(x)\n",
        "\n",
        "    x = self.conv2(x)\n",
        "    x = self.batch2(x)\n",
        "    x = self.pool2(x)\n",
        "\n",
        "    return x"
      ],
      "metadata": {
        "id": "48qhBijvdTkO"
      },
      "execution_count": null,
      "outputs": []
    },
    {
      "cell_type": "code",
      "source": [
        "feature_sub_classed = FeatureExtractor(8, 3, 1, \"valid\", \"relu\", 2)"
      ],
      "metadata": {
        "id": "6xr9VUrgeKU6"
      },
      "execution_count": null,
      "outputs": []
    },
    {
      "cell_type": "code",
      "source": [
        "func_input = Input(shape=(IM_SIZE, IM_SIZE, 3), name=\"Input_image\")\n",
        "\n",
        "x = feature_sub_classed(func_input)\n",
        "\n",
        "x = Flatten()(x)\n",
        "x = Dense(100, activation='sigmoid')(x)\n",
        "x = BatchNormalization()(x)\n",
        "x = Dense(10, activation='sigmoid')(x)\n",
        "x = BatchNormalization()(x)\n",
        "func_output = Dense(1, activation='sigmoid')(x)\n",
        "\n",
        "lenet_model = Model(func_input, func_output, name=\"Lenet_model\")\n",
        "lenet_model.summary()"
      ],
      "metadata": {
        "colab": {
          "base_uri": "https://localhost:8080/"
        },
        "id": "rWi4KYbMepfe",
        "outputId": "4e17db4f-ce21-4ef0-dd55-17bcc67168fb"
      },
      "execution_count": null,
      "outputs": [
        {
          "output_type": "stream",
          "name": "stdout",
          "text": [
            "Model: \"Lenet_model\"\n",
            "_________________________________________________________________\n",
            " Layer (type)                Output Shape              Param #   \n",
            "=================================================================\n",
            " Input_image (InputLayer)    [(None, 224, 224, 3)]     0         \n",
            "                                                                 \n",
            " feature_extractor (FeatureE  (None, 218, 218, 16)     1488      \n",
            " xtractor)                                                       \n",
            "                                                                 \n",
            " flatten_4 (Flatten)         (None, 760384)            0         \n",
            "                                                                 \n",
            " dense_12 (Dense)            (None, 100)               76038500  \n",
            "                                                                 \n",
            " batch_normalization_16 (Bat  (None, 100)              400       \n",
            " chNormalization)                                                \n",
            "                                                                 \n",
            " dense_13 (Dense)            (None, 10)                1010      \n",
            "                                                                 \n",
            " batch_normalization_17 (Bat  (None, 10)               40        \n",
            " chNormalization)                                                \n",
            "                                                                 \n",
            " dense_14 (Dense)            (None, 1)                 11        \n",
            "                                                                 \n",
            "=================================================================\n",
            "Total params: 76,041,449\n",
            "Trainable params: 76,041,181\n",
            "Non-trainable params: 268\n",
            "_________________________________________________________________\n"
          ]
        }
      ]
    },
    {
      "cell_type": "code",
      "source": [
        "class LenetModel(Model):\n",
        "  def __init__(self):\n",
        "    super(LenetModel, self).__init__()\n",
        "\n",
        "    self.feature_extractor = FeatureExtractor(8, 3, 1, \"valid\", \"relu\", 2)\n",
        "\n",
        "    self.flatten = Flatten()\n",
        "\n",
        "    self.dense1 = Dense(100, activation='sigmoid')\n",
        "    self.batch1 = BatchNormalization()\n",
        "\n",
        "    self.dense2 = Dense(10, activation='sigmoid')\n",
        "    self.batch2 = BatchNormalization()\n",
        "\n",
        "    self.dense3 = Dense(1, activation='sigmoid')\n",
        "\n",
        "  def call(self, x, training):\n",
        "    x = self.feature_extractor(x)\n",
        "\n",
        "    x = self.flatten(x)\n",
        "    x = self.dense1(x)\n",
        "    x = self.batch1(x)\n",
        "    x = self.dense2(x)\n",
        "    x = self.batch2(x)\n",
        "    x = self.dense3(x)\n",
        "\n",
        "    return x"
      ],
      "metadata": {
        "id": "LADhveGqfToa"
      },
      "execution_count": null,
      "outputs": []
    },
    {
      "cell_type": "code",
      "source": [
        "lenet_sub_classed = LenetModel()\n",
        "lenet_sub_classed(tf.zeros([1,224,224,3])) # build first\n",
        "lenet_sub_classed.summary()"
      ],
      "metadata": {
        "colab": {
          "base_uri": "https://localhost:8080/"
        },
        "id": "_zTPJbkugdNq",
        "outputId": "fbc48567-4029-4bf1-fb54-3e306d0f1da2"
      },
      "execution_count": null,
      "outputs": [
        {
          "output_type": "stream",
          "name": "stdout",
          "text": [
            "Model: \"lenet_model_1\"\n",
            "_________________________________________________________________\n",
            " Layer (type)                Output Shape              Param #   \n",
            "=================================================================\n",
            " feature_extractor_2 (Featur  multiple                 1488      \n",
            " eExtractor)                                                     \n",
            "                                                                 \n",
            " flatten_6 (Flatten)         multiple                  0         \n",
            "                                                                 \n",
            " dense_18 (Dense)            multiple                  76038500  \n",
            "                                                                 \n",
            " batch_normalization_24 (Bat  multiple                 400       \n",
            " chNormalization)                                                \n",
            "                                                                 \n",
            " dense_19 (Dense)            multiple                  1010      \n",
            "                                                                 \n",
            " batch_normalization_25 (Bat  multiple                 40        \n",
            " chNormalization)                                                \n",
            "                                                                 \n",
            " dense_20 (Dense)            multiple                  11        \n",
            "                                                                 \n",
            "=================================================================\n",
            "Total params: 76,041,449\n",
            "Trainable params: 76,041,181\n",
            "Non-trainable params: 268\n",
            "_________________________________________________________________\n"
          ]
        }
      ]
    },
    {
      "cell_type": "code",
      "source": [
        "lenet_sub_classed.compile(optimizer=Adam(learning_rate=0.001),\n",
        "              loss=BinaryCrossentropy(),\n",
        "              metrics=['accuracy'])\n",
        "history = lenet_sub_classed.fit(train_dataset, validation_data=val_dataset, epochs=5, verbose=1)"
      ],
      "metadata": {
        "colab": {
          "base_uri": "https://localhost:8080/"
        },
        "id": "R8TPI5Wxgjs_",
        "outputId": "cd25326f-b999-46e5-9966-696dff2e413a"
      },
      "execution_count": null,
      "outputs": [
        {
          "output_type": "stream",
          "name": "stdout",
          "text": [
            "Epoch 1/5\n",
            "517/517 [==============================] - 55s 94ms/step - loss: 0.6940 - accuracy: 0.5798 - val_loss: 0.7386 - val_accuracy: 0.5661\n",
            "Epoch 2/5\n",
            "517/517 [==============================] - 47s 90ms/step - loss: 0.6691 - accuracy: 0.6015 - val_loss: 1.4792 - val_accuracy: 0.5017\n",
            "Epoch 3/5\n",
            "517/517 [==============================] - 53s 102ms/step - loss: 0.6996 - accuracy: 0.5155 - val_loss: 0.7020 - val_accuracy: 0.5026\n",
            "Epoch 4/5\n",
            "517/517 [==============================] - 47s 91ms/step - loss: 0.6969 - accuracy: 0.5079 - val_loss: 0.8118 - val_accuracy: 0.5044\n",
            "Epoch 5/5\n",
            "517/517 [==============================] - 46s 90ms/step - loss: 0.6938 - accuracy: 0.5183 - val_loss: 0.6987 - val_accuracy: 0.4997\n"
          ]
        }
      ]
    },
    {
      "cell_type": "code",
      "source": [],
      "metadata": {
        "id": "pmrPYHw3esGA"
      },
      "execution_count": null,
      "outputs": []
    }
  ]
}