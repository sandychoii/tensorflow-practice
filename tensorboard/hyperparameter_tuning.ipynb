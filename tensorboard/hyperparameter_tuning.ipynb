{
  "nbformat": 4,
  "nbformat_minor": 0,
  "metadata": {
    "colab": {
      "provenance": []
    },
    "kernelspec": {
      "name": "python3",
      "display_name": "Python 3"
    },
    "language_info": {
      "name": "python"
    }
  },
  "cells": [
    {
      "cell_type": "markdown",
      "source": [
        "## Hyperparameter Tuning\n",
        "\n",
        "Select base values for hyperparameter automatically. We want to modify the parameters which make up this model and see how they affect the accuracy."
      ],
      "metadata": {
        "id": "0rK0Tfqzqt0Z"
      }
    },
    {
      "cell_type": "code",
      "source": [
        "dropout_rate = 0.2\n",
        "regularization_rate = 0.01\n",
        "\n",
        "def model_tune(hparams):\n",
        "  model = tf.keras.Sequential([InputLayer(input_shape=(IM_SIZE, IM_SIZE, 3)),\n",
        "\n",
        "                              Conv2D(filters=6, kernel_size=3, strides=1, padding='valid', activation='relu',\n",
        "                                      kernel_regularizer=L2(hparams[HP_REGULARIZATION_RATE])),\n",
        "                              BatchNormalization(),\n",
        "                              MaxPool2D(pool_size=2, strides=2),\n",
        "                              Dropout(rate=hparams[HP_DROPOUT]),\n",
        "\n",
        "                              Conv2D(filters=16, kernel_size=3, strides=1, padding='valid', activation='relu',\n",
        "                                      kernel_regularizer=L2(hparams[HP_REGULARIZATION_RATE])),\n",
        "                              BatchNormalization(),\n",
        "                              MaxPool2D(pool_size=2, strides=2),\n",
        "\n",
        "                              Flatten(),\n",
        "\n",
        "                              Dense(hparams[HP_NUM_UNITS_1], activation='sigmoid', kernel_regularizer=L2(hparams[HP_REGULARIZATION_RATE])), #\n",
        "                              BatchNormalization(),\n",
        "                              Dropout(rate=hparams[HP_DROPOUT]),\n",
        "\n",
        "                              Dense(hparams[HP_NUM_UNITS_2], activation='sigmoid', kernel_regularizer=L2(hparams[HP_REGULARIZATION_RATE])),\n",
        "                              BatchNormalization(),\n",
        "                              Dense(1, activation='sigmoid')]) # 0 or 1\n",
        "  model.compile(optimizer=Adam(learning_rate=hparams[HP_LEARNING_RATE]),\n",
        "              loss='binary_crossentropy',\n",
        "              metrics=['accuracy'])\n",
        "  model.fit(val_dataset, epochs=1, verbose=1)\n",
        "  _, accuracy = model.evaluate(val_dataset)\n",
        "\n",
        "  return accuracy\n"
      ],
      "metadata": {
        "id": "Sb-6oFK1qvuk"
      },
      "execution_count": null,
      "outputs": []
    },
    {
      "cell_type": "code",
      "source": [
        "HP_NUM_UNITS_1 = hp.HParam('num_units_1', hp.Discrete([16,32,64,128]))\n",
        "HP_NUM_UNITS_2 = hp.HParam('num_units_2', hp.Discrete([16,32,64,128]))\n",
        "HP_DROPOUT = hp.HParam('dropout', hp.Discrete([0.1,0.2,0.3]))\n",
        "HP_REGULARIZATION_RATE = hp.HParam('regularization_rate', hp.Discrete([0.001,0.01,0.1]))\n",
        "HP_LEARNING_RATE = hp.HParam('learning_rate', hp.Discrete([1e-4,1e-3]))"
      ],
      "metadata": {
        "id": "NlRIMmwfsDtm"
      },
      "execution_count": null,
      "outputs": []
    },
    {
      "cell_type": "markdown",
      "source": [
        "### Grid Search\n",
        "\n",
        "- fix range of value\n",
        "- if range is large, can take so long"
      ],
      "metadata": {
        "id": "dEZNONj-ydvs"
      }
    },
    {
      "cell_type": "code",
      "source": [
        "run_number = 0\n",
        "for num_units_1 in HP_NUM_UNITS_1.domain.values:\n",
        "  for num_units_2 in HP_NUM_UNITS_2.domain.values:\n",
        "    for dropout_rate in HP_DROPOUT.domain.values:\n",
        "      for regularization_rate in HP_REGULARIZATION_RATE.domain.values:\n",
        "        for learning_rate in HP_LEARNING_RATE.domain.values:\n",
        "\n",
        "          hparams = {\n",
        "              HP_NUM_UNITS_1: num_units_1,\n",
        "              HP_NUM_UNITS_2: num_units_2,\n",
        "              HP_DROPOUT: dropout_rate,\n",
        "              HP_REGULARIZATION_RATE: regularization_rate,\n",
        "              HP_LEARNING_RATE: learning_rate\n",
        "          }\n",
        "\n",
        "          file_writer = tf.summary.create_file_writer(f'logs/{run_number}')\n",
        "          with file_writer.as_default():\n",
        "            hp.hparams(hparams)\n",
        "            accuracy = model_tune(hparams)\n",
        "            tf.summary.scalar('accuracy', accuracy, step=0)\n",
        "          print(f\"Run {run_number} : Current hparams is: \", hparams)\n",
        "\n",
        "          run_number += 1"
      ],
      "metadata": {
        "colab": {
          "base_uri": "https://localhost:8080/"
        },
        "id": "VH4r8-GpttGl",
        "outputId": "1d44c362-052a-46c4-df8c-3aef26bddae3"
      },
      "execution_count": null,
      "outputs": [
        {
          "output_type": "stream",
          "name": "stdout",
          "text": [
            "173/173 [==============================] - 21s 53ms/step - loss: 0.7157 - accuracy: 0.6338\n",
            "173/173 [==============================] - 15s 45ms/step - loss: 0.7503 - accuracy: 0.5132\n",
            "Run 0 : Current hparams is:  {HParam(name='num_units_1', domain=Discrete([16, 32, 64, 128]), display_name=None, description=None): 16, HParam(name='num_units_2', domain=Discrete([16, 32, 64, 128]), display_name=None, description=None): 16, HParam(name='dropout', domain=Discrete([0.1, 0.2, 0.3]), display_name=None, description=None): 0.1, HParam(name='regularization_rate', domain=Discrete([0.001, 0.01, 0.1]), display_name=None, description=None): 0.001, HParam(name='learning_rate', domain=Discrete([0.0001, 0.001]), display_name=None, description=None): 0.0001}\n",
            "173/173 [==============================] - 21s 53ms/step - loss: 0.7471 - accuracy: 0.6226\n",
            "173/173 [==============================] - 15s 45ms/step - loss: 0.8697 - accuracy: 0.4988\n",
            "Run 1 : Current hparams is:  {HParam(name='num_units_1', domain=Discrete([16, 32, 64, 128]), display_name=None, description=None): 16, HParam(name='num_units_2', domain=Discrete([16, 32, 64, 128]), display_name=None, description=None): 16, HParam(name='dropout', domain=Discrete([0.1, 0.2, 0.3]), display_name=None, description=None): 0.1, HParam(name='regularization_rate', domain=Discrete([0.001, 0.01, 0.1]), display_name=None, description=None): 0.001, HParam(name='learning_rate', domain=Discrete([0.0001, 0.001]), display_name=None, description=None): 0.001}\n",
            "173/173 [==============================] - 20s 45ms/step - loss: 1.2861 - accuracy: 0.6385\n",
            "173/173 [==============================] - 16s 46ms/step - loss: 1.2487 - accuracy: 0.5955\n",
            "Run 2 : Current hparams is:  {HParam(name='num_units_1', domain=Discrete([16, 32, 64, 128]), display_name=None, description=None): 16, HParam(name='num_units_2', domain=Discrete([16, 32, 64, 128]), display_name=None, description=None): 16, HParam(name='dropout', domain=Discrete([0.1, 0.2, 0.3]), display_name=None, description=None): 0.1, HParam(name='regularization_rate', domain=Discrete([0.001, 0.01, 0.1]), display_name=None, description=None): 0.01, HParam(name='learning_rate', domain=Discrete([0.0001, 0.001]), display_name=None, description=None): 0.0001}\n",
            "173/173 [==============================] - 19s 46ms/step - loss: 1.1256 - accuracy: 0.6144\n",
            "173/173 [==============================] - 15s 39ms/step - loss: 1.0227 - accuracy: 0.5447\n",
            "Run 3 : Current hparams is:  {HParam(name='num_units_1', domain=Discrete([16, 32, 64, 128]), display_name=None, description=None): 16, HParam(name='num_units_2', domain=Discrete([16, 32, 64, 128]), display_name=None, description=None): 16, HParam(name='dropout', domain=Discrete([0.1, 0.2, 0.3]), display_name=None, description=None): 0.1, HParam(name='regularization_rate', domain=Discrete([0.001, 0.01, 0.1]), display_name=None, description=None): 0.01, HParam(name='learning_rate', domain=Discrete([0.0001, 0.001]), display_name=None, description=None): 0.001}\n",
            "173/173 [==============================] - 21s 53ms/step - loss: 5.1384 - accuracy: 0.6295\n",
            "173/173 [==============================] - 16s 53ms/step - loss: 4.0965 - accuracy: 0.5015\n",
            "Run 4 : Current hparams is:  {HParam(name='num_units_1', domain=Discrete([16, 32, 64, 128]), display_name=None, description=None): 16, HParam(name='num_units_2', domain=Discrete([16, 32, 64, 128]), display_name=None, description=None): 16, HParam(name='dropout', domain=Discrete([0.1, 0.2, 0.3]), display_name=None, description=None): 0.1, HParam(name='regularization_rate', domain=Discrete([0.001, 0.01, 0.1]), display_name=None, description=None): 0.1, HParam(name='learning_rate', domain=Discrete([0.0001, 0.001]), display_name=None, description=None): 0.0001}\n",
            "173/173 [==============================] - 26s 58ms/step - loss: 2.9870 - accuracy: 0.6277\n",
            "173/173 [==============================] - 19s 46ms/step - loss: 1.9996 - accuracy: 0.5012\n",
            "Run 5 : Current hparams is:  {HParam(name='num_units_1', domain=Discrete([16, 32, 64, 128]), display_name=None, description=None): 16, HParam(name='num_units_2', domain=Discrete([16, 32, 64, 128]), display_name=None, description=None): 16, HParam(name='dropout', domain=Discrete([0.1, 0.2, 0.3]), display_name=None, description=None): 0.1, HParam(name='regularization_rate', domain=Discrete([0.001, 0.01, 0.1]), display_name=None, description=None): 0.1, HParam(name='learning_rate', domain=Discrete([0.0001, 0.001]), display_name=None, description=None): 0.001}\n",
            "173/173 [==============================] - 20s 47ms/step - loss: 0.7023 - accuracy: 0.6422\n",
            "173/173 [==============================] - 15s 45ms/step - loss: 0.7454 - accuracy: 0.5135\n",
            "Run 6 : Current hparams is:  {HParam(name='num_units_1', domain=Discrete([16, 32, 64, 128]), display_name=None, description=None): 16, HParam(name='num_units_2', domain=Discrete([16, 32, 64, 128]), display_name=None, description=None): 16, HParam(name='dropout', domain=Discrete([0.1, 0.2, 0.3]), display_name=None, description=None): 0.2, HParam(name='regularization_rate', domain=Discrete([0.001, 0.01, 0.1]), display_name=None, description=None): 0.001, HParam(name='learning_rate', domain=Discrete([0.0001, 0.001]), display_name=None, description=None): 0.0001}\n",
            "173/173 [==============================] - 21s 53ms/step - loss: 0.7649 - accuracy: 0.5894\n",
            "173/173 [==============================] - 15s 38ms/step - loss: 0.7620 - accuracy: 0.5830\n",
            "Run 7 : Current hparams is:  {HParam(name='num_units_1', domain=Discrete([16, 32, 64, 128]), display_name=None, description=None): 16, HParam(name='num_units_2', domain=Discrete([16, 32, 64, 128]), display_name=None, description=None): 16, HParam(name='dropout', domain=Discrete([0.1, 0.2, 0.3]), display_name=None, description=None): 0.2, HParam(name='regularization_rate', domain=Discrete([0.001, 0.01, 0.1]), display_name=None, description=None): 0.001, HParam(name='learning_rate', domain=Discrete([0.0001, 0.001]), display_name=None, description=None): 0.001}\n",
            "173/173 [==============================] - 20s 52ms/step - loss: 1.2589 - accuracy: 0.6186\n",
            "173/173 [==============================] - 15s 45ms/step - loss: 1.2144 - accuracy: 0.6091\n",
            "Run 8 : Current hparams is:  {HParam(name='num_units_1', domain=Discrete([16, 32, 64, 128]), display_name=None, description=None): 16, HParam(name='num_units_2', domain=Discrete([16, 32, 64, 128]), display_name=None, description=None): 16, HParam(name='dropout', domain=Discrete([0.1, 0.2, 0.3]), display_name=None, description=None): 0.2, HParam(name='regularization_rate', domain=Discrete([0.001, 0.01, 0.1]), display_name=None, description=None): 0.01, HParam(name='learning_rate', domain=Discrete([0.0001, 0.001]), display_name=None, description=None): 0.0001}\n",
            "173/173 [==============================] - 20s 55ms/step - loss: 1.2223 - accuracy: 0.5825\n",
            "173/173 [==============================] - 15s 38ms/step - loss: 1.0249 - accuracy: 0.5353\n",
            "Run 9 : Current hparams is:  {HParam(name='num_units_1', domain=Discrete([16, 32, 64, 128]), display_name=None, description=None): 16, HParam(name='num_units_2', domain=Discrete([16, 32, 64, 128]), display_name=None, description=None): 16, HParam(name='dropout', domain=Discrete([0.1, 0.2, 0.3]), display_name=None, description=None): 0.2, HParam(name='regularization_rate', domain=Discrete([0.001, 0.01, 0.1]), display_name=None, description=None): 0.01, HParam(name='learning_rate', domain=Discrete([0.0001, 0.001]), display_name=None, description=None): 0.001}\n",
            "173/173 [==============================] - 21s 53ms/step - loss: 5.5720 - accuracy: 0.5899\n",
            "173/173 [==============================] - 15s 39ms/step - loss: 4.5612 - accuracy: 0.4988\n",
            "Run 10 : Current hparams is:  {HParam(name='num_units_1', domain=Discrete([16, 32, 64, 128]), display_name=None, description=None): 16, HParam(name='num_units_2', domain=Discrete([16, 32, 64, 128]), display_name=None, description=None): 16, HParam(name='dropout', domain=Discrete([0.1, 0.2, 0.3]), display_name=None, description=None): 0.2, HParam(name='regularization_rate', domain=Discrete([0.001, 0.01, 0.1]), display_name=None, description=None): 0.1, HParam(name='learning_rate', domain=Discrete([0.0001, 0.001]), display_name=None, description=None): 0.0001}\n",
            "173/173 [==============================] - 21s 56ms/step - loss: 3.1334 - accuracy: 0.5480\n",
            "173/173 [==============================] - 15s 38ms/step - loss: 2.2775 - accuracy: 0.4985\n",
            "Run 11 : Current hparams is:  {HParam(name='num_units_1', domain=Discrete([16, 32, 64, 128]), display_name=None, description=None): 16, HParam(name='num_units_2', domain=Discrete([16, 32, 64, 128]), display_name=None, description=None): 16, HParam(name='dropout', domain=Discrete([0.1, 0.2, 0.3]), display_name=None, description=None): 0.2, HParam(name='regularization_rate', domain=Discrete([0.001, 0.01, 0.1]), display_name=None, description=None): 0.1, HParam(name='learning_rate', domain=Discrete([0.0001, 0.001]), display_name=None, description=None): 0.001}\n",
            "173/173 [==============================] - 21s 53ms/step - loss: 0.7129 - accuracy: 0.6371\n",
            "173/173 [==============================] - 15s 38ms/step - loss: 0.7194 - accuracy: 0.5901\n",
            "Run 12 : Current hparams is:  {HParam(name='num_units_1', domain=Discrete([16, 32, 64, 128]), display_name=None, description=None): 16, HParam(name='num_units_2', domain=Discrete([16, 32, 64, 128]), display_name=None, description=None): 16, HParam(name='dropout', domain=Discrete([0.1, 0.2, 0.3]), display_name=None, description=None): 0.3, HParam(name='regularization_rate', domain=Discrete([0.001, 0.01, 0.1]), display_name=None, description=None): 0.001, HParam(name='learning_rate', domain=Discrete([0.0001, 0.001]), display_name=None, description=None): 0.0001}\n",
            "173/173 [==============================] - 19s 47ms/step - loss: 0.7801 - accuracy: 0.5536\n",
            "173/173 [==============================] - 15s 38ms/step - loss: 0.8414 - accuracy: 0.5015\n",
            "Run 13 : Current hparams is:  {HParam(name='num_units_1', domain=Discrete([16, 32, 64, 128]), display_name=None, description=None): 16, HParam(name='num_units_2', domain=Discrete([16, 32, 64, 128]), display_name=None, description=None): 16, HParam(name='dropout', domain=Discrete([0.1, 0.2, 0.3]), display_name=None, description=None): 0.3, HParam(name='regularization_rate', domain=Discrete([0.001, 0.01, 0.1]), display_name=None, description=None): 0.001, HParam(name='learning_rate', domain=Discrete([0.0001, 0.001]), display_name=None, description=None): 0.001}\n",
            "173/173 [==============================] - 20s 54ms/step - loss: 1.2602 - accuracy: 0.6003\n",
            "173/173 [==============================] - 16s 41ms/step - loss: 1.1939 - accuracy: 0.6162\n",
            "Run 14 : Current hparams is:  {HParam(name='num_units_1', domain=Discrete([16, 32, 64, 128]), display_name=None, description=None): 16, HParam(name='num_units_2', domain=Discrete([16, 32, 64, 128]), display_name=None, description=None): 16, HParam(name='dropout', domain=Discrete([0.1, 0.2, 0.3]), display_name=None, description=None): 0.3, HParam(name='regularization_rate', domain=Discrete([0.001, 0.01, 0.1]), display_name=None, description=None): 0.01, HParam(name='learning_rate', domain=Discrete([0.0001, 0.001]), display_name=None, description=None): 0.0001}\n",
            "173/173 [==============================] - 22s 56ms/step - loss: 1.2129 - accuracy: 0.5540\n",
            "173/173 [==============================] - 15s 46ms/step - loss: 1.0341 - accuracy: 0.6015\n",
            "Run 15 : Current hparams is:  {HParam(name='num_units_1', domain=Discrete([16, 32, 64, 128]), display_name=None, description=None): 16, HParam(name='num_units_2', domain=Discrete([16, 32, 64, 128]), display_name=None, description=None): 16, HParam(name='dropout', domain=Discrete([0.1, 0.2, 0.3]), display_name=None, description=None): 0.3, HParam(name='regularization_rate', domain=Discrete([0.001, 0.01, 0.1]), display_name=None, description=None): 0.01, HParam(name='learning_rate', domain=Discrete([0.0001, 0.001]), display_name=None, description=None): 0.001}\n",
            "173/173 [==============================] - 20s 46ms/step - loss: 5.6903 - accuracy: 0.6139\n",
            "173/173 [==============================] - 16s 46ms/step - loss: 4.7949 - accuracy: 0.5028\n",
            "Run 16 : Current hparams is:  {HParam(name='num_units_1', domain=Discrete([16, 32, 64, 128]), display_name=None, description=None): 16, HParam(name='num_units_2', domain=Discrete([16, 32, 64, 128]), display_name=None, description=None): 16, HParam(name='dropout', domain=Discrete([0.1, 0.2, 0.3]), display_name=None, description=None): 0.3, HParam(name='regularization_rate', domain=Discrete([0.001, 0.01, 0.1]), display_name=None, description=None): 0.1, HParam(name='learning_rate', domain=Discrete([0.0001, 0.001]), display_name=None, description=None): 0.0001}\n",
            "173/173 [==============================] - 21s 53ms/step - loss: 3.0397 - accuracy: 0.5779\n",
            "173/173 [==============================] - 15s 46ms/step - loss: 1.8929 - accuracy: 0.6090\n",
            "Run 17 : Current hparams is:  {HParam(name='num_units_1', domain=Discrete([16, 32, 64, 128]), display_name=None, description=None): 16, HParam(name='num_units_2', domain=Discrete([16, 32, 64, 128]), display_name=None, description=None): 16, HParam(name='dropout', domain=Discrete([0.1, 0.2, 0.3]), display_name=None, description=None): 0.3, HParam(name='regularization_rate', domain=Discrete([0.001, 0.01, 0.1]), display_name=None, description=None): 0.1, HParam(name='learning_rate', domain=Discrete([0.0001, 0.001]), display_name=None, description=None): 0.001}\n",
            "173/173 [==============================] - 19s 45ms/step - loss: 0.7533 - accuracy: 0.6177\n",
            "173/173 [==============================] - 15s 46ms/step - loss: 0.7304 - accuracy: 0.6104\n",
            "Run 18 : Current hparams is:  {HParam(name='num_units_1', domain=Discrete([16, 32, 64, 128]), display_name=None, description=None): 16, HParam(name='num_units_2', domain=Discrete([16, 32, 64, 128]), display_name=None, description=None): 32, HParam(name='dropout', domain=Discrete([0.1, 0.2, 0.3]), display_name=None, description=None): 0.1, HParam(name='regularization_rate', domain=Discrete([0.001, 0.01, 0.1]), display_name=None, description=None): 0.001, HParam(name='learning_rate', domain=Discrete([0.0001, 0.001]), display_name=None, description=None): 0.0001}\n",
            "173/173 [==============================] - 21s 55ms/step - loss: 0.7921 - accuracy: 0.5723\n",
            "173/173 [==============================] - 15s 38ms/step - loss: 0.8005 - accuracy: 0.5391\n",
            "Run 19 : Current hparams is:  {HParam(name='num_units_1', domain=Discrete([16, 32, 64, 128]), display_name=None, description=None): 16, HParam(name='num_units_2', domain=Discrete([16, 32, 64, 128]), display_name=None, description=None): 32, HParam(name='dropout', domain=Discrete([0.1, 0.2, 0.3]), display_name=None, description=None): 0.1, HParam(name='regularization_rate', domain=Discrete([0.001, 0.01, 0.1]), display_name=None, description=None): 0.001, HParam(name='learning_rate', domain=Discrete([0.0001, 0.001]), display_name=None, description=None): 0.001}\n",
            "173/173 [==============================] - 21s 53ms/step - loss: 1.2921 - accuracy: 0.6046\n",
            "173/173 [==============================] - 15s 44ms/step - loss: 1.2430 - accuracy: 0.6373\n",
            "Run 20 : Current hparams is:  {HParam(name='num_units_1', domain=Discrete([16, 32, 64, 128]), display_name=None, description=None): 16, HParam(name='num_units_2', domain=Discrete([16, 32, 64, 128]), display_name=None, description=None): 32, HParam(name='dropout', domain=Discrete([0.1, 0.2, 0.3]), display_name=None, description=None): 0.1, HParam(name='regularization_rate', domain=Discrete([0.001, 0.01, 0.1]), display_name=None, description=None): 0.01, HParam(name='learning_rate', domain=Discrete([0.0001, 0.001]), display_name=None, description=None): 0.0001}\n",
            "173/173 [==============================] - 19s 50ms/step - loss: 1.2763 - accuracy: 0.5866\n",
            "173/173 [==============================] - 15s 39ms/step - loss: 1.0973 - accuracy: 0.5202\n",
            "Run 21 : Current hparams is:  {HParam(name='num_units_1', domain=Discrete([16, 32, 64, 128]), display_name=None, description=None): 16, HParam(name='num_units_2', domain=Discrete([16, 32, 64, 128]), display_name=None, description=None): 32, HParam(name='dropout', domain=Discrete([0.1, 0.2, 0.3]), display_name=None, description=None): 0.1, HParam(name='regularization_rate', domain=Discrete([0.001, 0.01, 0.1]), display_name=None, description=None): 0.01, HParam(name='learning_rate', domain=Discrete([0.0001, 0.001]), display_name=None, description=None): 0.001}\n",
            "173/173 [==============================] - 21s 52ms/step - loss: 5.9696 - accuracy: 0.6228\n",
            "173/173 [==============================] - 15s 45ms/step - loss: 4.8689 - accuracy: 0.5041\n",
            "Run 22 : Current hparams is:  {HParam(name='num_units_1', domain=Discrete([16, 32, 64, 128]), display_name=None, description=None): 16, HParam(name='num_units_2', domain=Discrete([16, 32, 64, 128]), display_name=None, description=None): 32, HParam(name='dropout', domain=Discrete([0.1, 0.2, 0.3]), display_name=None, description=None): 0.1, HParam(name='regularization_rate', domain=Discrete([0.001, 0.01, 0.1]), display_name=None, description=None): 0.1, HParam(name='learning_rate', domain=Discrete([0.0001, 0.001]), display_name=None, description=None): 0.0001}\n",
            "173/173 [==============================] - 20s 53ms/step - loss: 3.1807 - accuracy: 0.5651\n",
            "173/173 [==============================] - 15s 38ms/step - loss: 1.8742 - accuracy: 0.4986\n",
            "Run 23 : Current hparams is:  {HParam(name='num_units_1', domain=Discrete([16, 32, 64, 128]), display_name=None, description=None): 16, HParam(name='num_units_2', domain=Discrete([16, 32, 64, 128]), display_name=None, description=None): 32, HParam(name='dropout', domain=Discrete([0.1, 0.2, 0.3]), display_name=None, description=None): 0.1, HParam(name='regularization_rate', domain=Discrete([0.001, 0.01, 0.1]), display_name=None, description=None): 0.1, HParam(name='learning_rate', domain=Discrete([0.0001, 0.001]), display_name=None, description=None): 0.001}\n",
            "173/173 [==============================] - 21s 53ms/step - loss: 0.7501 - accuracy: 0.6035\n",
            "173/173 [==============================] - 15s 41ms/step - loss: 0.8611 - accuracy: 0.4995\n",
            "Run 24 : Current hparams is:  {HParam(name='num_units_1', domain=Discrete([16, 32, 64, 128]), display_name=None, description=None): 16, HParam(name='num_units_2', domain=Discrete([16, 32, 64, 128]), display_name=None, description=None): 32, HParam(name='dropout', domain=Discrete([0.1, 0.2, 0.3]), display_name=None, description=None): 0.2, HParam(name='regularization_rate', domain=Discrete([0.001, 0.01, 0.1]), display_name=None, description=None): 0.001, HParam(name='learning_rate', domain=Discrete([0.0001, 0.001]), display_name=None, description=None): 0.0001}\n",
            "173/173 [==============================] - 19s 50ms/step - loss: 0.8017 - accuracy: 0.5424\n",
            "173/173 [==============================] - 15s 40ms/step - loss: 0.7733 - accuracy: 0.5493\n",
            "Run 25 : Current hparams is:  {HParam(name='num_units_1', domain=Discrete([16, 32, 64, 128]), display_name=None, description=None): 16, HParam(name='num_units_2', domain=Discrete([16, 32, 64, 128]), display_name=None, description=None): 32, HParam(name='dropout', domain=Discrete([0.1, 0.2, 0.3]), display_name=None, description=None): 0.2, HParam(name='regularization_rate', domain=Discrete([0.001, 0.01, 0.1]), display_name=None, description=None): 0.001, HParam(name='learning_rate', domain=Discrete([0.0001, 0.001]), display_name=None, description=None): 0.001}\n",
            "173/173 [==============================] - 20s 54ms/step - loss: 1.3289 - accuracy: 0.6258\n",
            "173/173 [==============================] - 15s 38ms/step - loss: 1.4525 - accuracy: 0.5015\n",
            "Run 26 : Current hparams is:  {HParam(name='num_units_1', domain=Discrete([16, 32, 64, 128]), display_name=None, description=None): 16, HParam(name='num_units_2', domain=Discrete([16, 32, 64, 128]), display_name=None, description=None): 32, HParam(name='dropout', domain=Discrete([0.1, 0.2, 0.3]), display_name=None, description=None): 0.2, HParam(name='regularization_rate', domain=Discrete([0.001, 0.01, 0.1]), display_name=None, description=None): 0.01, HParam(name='learning_rate', domain=Discrete([0.0001, 0.001]), display_name=None, description=None): 0.0001}\n",
            "173/173 [==============================] - 19s 47ms/step - loss: 1.2759 - accuracy: 0.5667\n",
            "173/173 [==============================] - 15s 45ms/step - loss: 1.0818 - accuracy: 0.5997\n",
            "Run 27 : Current hparams is:  {HParam(name='num_units_1', domain=Discrete([16, 32, 64, 128]), display_name=None, description=None): 16, HParam(name='num_units_2', domain=Discrete([16, 32, 64, 128]), display_name=None, description=None): 32, HParam(name='dropout', domain=Discrete([0.1, 0.2, 0.3]), display_name=None, description=None): 0.2, HParam(name='regularization_rate', domain=Discrete([0.001, 0.01, 0.1]), display_name=None, description=None): 0.01, HParam(name='learning_rate', domain=Discrete([0.0001, 0.001]), display_name=None, description=None): 0.001}\n",
            "173/173 [==============================] - 19s 46ms/step - loss: 6.1304 - accuracy: 0.6084\n",
            "173/173 [==============================] - 15s 44ms/step - loss: 5.0702 - accuracy: 0.6296\n",
            "Run 28 : Current hparams is:  {HParam(name='num_units_1', domain=Discrete([16, 32, 64, 128]), display_name=None, description=None): 16, HParam(name='num_units_2', domain=Discrete([16, 32, 64, 128]), display_name=None, description=None): 32, HParam(name='dropout', domain=Discrete([0.1, 0.2, 0.3]), display_name=None, description=None): 0.2, HParam(name='regularization_rate', domain=Discrete([0.001, 0.01, 0.1]), display_name=None, description=None): 0.1, HParam(name='learning_rate', domain=Discrete([0.0001, 0.001]), display_name=None, description=None): 0.0001}\n",
            "173/173 [==============================] - 21s 52ms/step - loss: 3.0450 - accuracy: 0.6531\n",
            "173/173 [==============================] - 14s 37ms/step - loss: 2.0914 - accuracy: 0.5014\n",
            "Run 29 : Current hparams is:  {HParam(name='num_units_1', domain=Discrete([16, 32, 64, 128]), display_name=None, description=None): 16, HParam(name='num_units_2', domain=Discrete([16, 32, 64, 128]), display_name=None, description=None): 32, HParam(name='dropout', domain=Discrete([0.1, 0.2, 0.3]), display_name=None, description=None): 0.2, HParam(name='regularization_rate', domain=Discrete([0.001, 0.01, 0.1]), display_name=None, description=None): 0.1, HParam(name='learning_rate', domain=Discrete([0.0001, 0.001]), display_name=None, description=None): 0.001}\n",
            "173/173 [==============================] - 19s 45ms/step - loss: 0.7100 - accuracy: 0.6502\n",
            "173/173 [==============================] - 15s 42ms/step - loss: 0.8740 - accuracy: 0.5014\n",
            "Run 30 : Current hparams is:  {HParam(name='num_units_1', domain=Discrete([16, 32, 64, 128]), display_name=None, description=None): 16, HParam(name='num_units_2', domain=Discrete([16, 32, 64, 128]), display_name=None, description=None): 32, HParam(name='dropout', domain=Discrete([0.1, 0.2, 0.3]), display_name=None, description=None): 0.3, HParam(name='regularization_rate', domain=Discrete([0.001, 0.01, 0.1]), display_name=None, description=None): 0.001, HParam(name='learning_rate', domain=Discrete([0.0001, 0.001]), display_name=None, description=None): 0.0001}\n",
            "173/173 [==============================] - 21s 54ms/step - loss: 0.7797 - accuracy: 0.5667\n",
            "173/173 [==============================] - 15s 45ms/step - loss: 0.7951 - accuracy: 0.5070\n",
            "Run 31 : Current hparams is:  {HParam(name='num_units_1', domain=Discrete([16, 32, 64, 128]), display_name=None, description=None): 16, HParam(name='num_units_2', domain=Discrete([16, 32, 64, 128]), display_name=None, description=None): 32, HParam(name='dropout', domain=Discrete([0.1, 0.2, 0.3]), display_name=None, description=None): 0.3, HParam(name='regularization_rate', domain=Discrete([0.001, 0.01, 0.1]), display_name=None, description=None): 0.001, HParam(name='learning_rate', domain=Discrete([0.0001, 0.001]), display_name=None, description=None): 0.001}\n",
            "173/173 [==============================] - 20s 52ms/step - loss: 1.3125 - accuracy: 0.6391\n",
            "173/173 [==============================] - 15s 40ms/step - loss: 1.4176 - accuracy: 0.5012\n",
            "Run 32 : Current hparams is:  {HParam(name='num_units_1', domain=Discrete([16, 32, 64, 128]), display_name=None, description=None): 16, HParam(name='num_units_2', domain=Discrete([16, 32, 64, 128]), display_name=None, description=None): 32, HParam(name='dropout', domain=Discrete([0.1, 0.2, 0.3]), display_name=None, description=None): 0.3, HParam(name='regularization_rate', domain=Discrete([0.001, 0.01, 0.1]), display_name=None, description=None): 0.01, HParam(name='learning_rate', domain=Discrete([0.0001, 0.001]), display_name=None, description=None): 0.0001}\n",
            "173/173 [==============================] - 20s 52ms/step - loss: 1.1756 - accuracy: 0.5101\n",
            "173/173 [==============================] - 15s 45ms/step - loss: 0.9700 - accuracy: 0.5260\n",
            "Run 33 : Current hparams is:  {HParam(name='num_units_1', domain=Discrete([16, 32, 64, 128]), display_name=None, description=None): 16, HParam(name='num_units_2', domain=Discrete([16, 32, 64, 128]), display_name=None, description=None): 32, HParam(name='dropout', domain=Discrete([0.1, 0.2, 0.3]), display_name=None, description=None): 0.3, HParam(name='regularization_rate', domain=Discrete([0.001, 0.01, 0.1]), display_name=None, description=None): 0.01, HParam(name='learning_rate', domain=Discrete([0.0001, 0.001]), display_name=None, description=None): 0.001}\n",
            "173/173 [==============================] - 20s 52ms/step - loss: 5.8851 - accuracy: 0.6218\n",
            "173/173 [==============================] - 15s 37ms/step - loss: 4.8192 - accuracy: 0.5433\n",
            "Run 34 : Current hparams is:  {HParam(name='num_units_1', domain=Discrete([16, 32, 64, 128]), display_name=None, description=None): 16, HParam(name='num_units_2', domain=Discrete([16, 32, 64, 128]), display_name=None, description=None): 32, HParam(name='dropout', domain=Discrete([0.1, 0.2, 0.3]), display_name=None, description=None): 0.3, HParam(name='regularization_rate', domain=Discrete([0.001, 0.01, 0.1]), display_name=None, description=None): 0.1, HParam(name='learning_rate', domain=Discrete([0.0001, 0.001]), display_name=None, description=None): 0.0001}\n",
            "173/173 [==============================] - 20s 49ms/step - loss: 3.2633 - accuracy: 0.5768\n",
            "173/173 [==============================] - 15s 45ms/step - loss: 1.8507 - accuracy: 0.4985\n",
            "Run 35 : Current hparams is:  {HParam(name='num_units_1', domain=Discrete([16, 32, 64, 128]), display_name=None, description=None): 16, HParam(name='num_units_2', domain=Discrete([16, 32, 64, 128]), display_name=None, description=None): 32, HParam(name='dropout', domain=Discrete([0.1, 0.2, 0.3]), display_name=None, description=None): 0.3, HParam(name='regularization_rate', domain=Discrete([0.001, 0.01, 0.1]), display_name=None, description=None): 0.1, HParam(name='learning_rate', domain=Discrete([0.0001, 0.001]), display_name=None, description=None): 0.001}\n",
            "173/173 [==============================] - 21s 53ms/step - loss: 0.7313 - accuracy: 0.6233\n",
            "173/173 [==============================] - 15s 42ms/step - loss: 0.7280 - accuracy: 0.6097\n",
            "Run 36 : Current hparams is:  {HParam(name='num_units_1', domain=Discrete([16, 32, 64, 128]), display_name=None, description=None): 16, HParam(name='num_units_2', domain=Discrete([16, 32, 64, 128]), display_name=None, description=None): 64, HParam(name='dropout', domain=Discrete([0.1, 0.2, 0.3]), display_name=None, description=None): 0.1, HParam(name='regularization_rate', domain=Discrete([0.001, 0.01, 0.1]), display_name=None, description=None): 0.001, HParam(name='learning_rate', domain=Discrete([0.0001, 0.001]), display_name=None, description=None): 0.0001}\n",
            "173/173 [==============================] - 19s 50ms/step - loss: 0.7707 - accuracy: 0.5767\n",
            "173/173 [==============================] - 16s 45ms/step - loss: 0.7588 - accuracy: 0.6175\n",
            "Run 37 : Current hparams is:  {HParam(name='num_units_1', domain=Discrete([16, 32, 64, 128]), display_name=None, description=None): 16, HParam(name='num_units_2', domain=Discrete([16, 32, 64, 128]), display_name=None, description=None): 64, HParam(name='dropout', domain=Discrete([0.1, 0.2, 0.3]), display_name=None, description=None): 0.1, HParam(name='regularization_rate', domain=Discrete([0.001, 0.01, 0.1]), display_name=None, description=None): 0.001, HParam(name='learning_rate', domain=Discrete([0.0001, 0.001]), display_name=None, description=None): 0.001}\n",
            "173/173 [==============================] - 20s 45ms/step - loss: 1.3229 - accuracy: 0.6398\n",
            "173/173 [==============================] - 15s 39ms/step - loss: 1.3154 - accuracy: 0.4990\n",
            "Run 38 : Current hparams is:  {HParam(name='num_units_1', domain=Discrete([16, 32, 64, 128]), display_name=None, description=None): 16, HParam(name='num_units_2', domain=Discrete([16, 32, 64, 128]), display_name=None, description=None): 64, HParam(name='dropout', domain=Discrete([0.1, 0.2, 0.3]), display_name=None, description=None): 0.1, HParam(name='regularization_rate', domain=Discrete([0.001, 0.01, 0.1]), display_name=None, description=None): 0.01, HParam(name='learning_rate', domain=Discrete([0.0001, 0.001]), display_name=None, description=None): 0.0001}\n",
            "173/173 [==============================] - 21s 54ms/step - loss: 1.2847 - accuracy: 0.6079\n",
            "173/173 [==============================] - 15s 46ms/step - loss: 1.1881 - accuracy: 0.5035\n",
            "Run 39 : Current hparams is:  {HParam(name='num_units_1', domain=Discrete([16, 32, 64, 128]), display_name=None, description=None): 16, HParam(name='num_units_2', domain=Discrete([16, 32, 64, 128]), display_name=None, description=None): 64, HParam(name='dropout', domain=Discrete([0.1, 0.2, 0.3]), display_name=None, description=None): 0.1, HParam(name='regularization_rate', domain=Discrete([0.001, 0.01, 0.1]), display_name=None, description=None): 0.01, HParam(name='learning_rate', domain=Discrete([0.0001, 0.001]), display_name=None, description=None): 0.001}\n",
            "173/173 [==============================] - 20s 52ms/step - loss: 6.2389 - accuracy: 0.5974\n",
            "173/173 [==============================] - 15s 37ms/step - loss: 5.0717 - accuracy: 0.5015\n",
            "Run 40 : Current hparams is:  {HParam(name='num_units_1', domain=Discrete([16, 32, 64, 128]), display_name=None, description=None): 16, HParam(name='num_units_2', domain=Discrete([16, 32, 64, 128]), display_name=None, description=None): 64, HParam(name='dropout', domain=Discrete([0.1, 0.2, 0.3]), display_name=None, description=None): 0.1, HParam(name='regularization_rate', domain=Discrete([0.001, 0.01, 0.1]), display_name=None, description=None): 0.1, HParam(name='learning_rate', domain=Discrete([0.0001, 0.001]), display_name=None, description=None): 0.0001}\n",
            "173/173 [==============================] - 19s 45ms/step - loss: 3.3744 - accuracy: 0.6360\n",
            "173/173 [==============================] - 15s 45ms/step - loss: 1.9258 - accuracy: 0.5132\n",
            "Run 41 : Current hparams is:  {HParam(name='num_units_1', domain=Discrete([16, 32, 64, 128]), display_name=None, description=None): 16, HParam(name='num_units_2', domain=Discrete([16, 32, 64, 128]), display_name=None, description=None): 64, HParam(name='dropout', domain=Discrete([0.1, 0.2, 0.3]), display_name=None, description=None): 0.1, HParam(name='regularization_rate', domain=Discrete([0.001, 0.01, 0.1]), display_name=None, description=None): 0.1, HParam(name='learning_rate', domain=Discrete([0.0001, 0.001]), display_name=None, description=None): 0.001}\n",
            "173/173 [==============================] - 19s 45ms/step - loss: 0.7801 - accuracy: 0.5794\n",
            "173/173 [==============================] - 15s 40ms/step - loss: 0.8392 - accuracy: 0.5014\n",
            "Run 42 : Current hparams is:  {HParam(name='num_units_1', domain=Discrete([16, 32, 64, 128]), display_name=None, description=None): 16, HParam(name='num_units_2', domain=Discrete([16, 32, 64, 128]), display_name=None, description=None): 64, HParam(name='dropout', domain=Discrete([0.1, 0.2, 0.3]), display_name=None, description=None): 0.2, HParam(name='regularization_rate', domain=Discrete([0.001, 0.01, 0.1]), display_name=None, description=None): 0.001, HParam(name='learning_rate', domain=Discrete([0.0001, 0.001]), display_name=None, description=None): 0.0001}\n",
            "173/173 [==============================] - 20s 50ms/step - loss: 0.7682 - accuracy: 0.5988\n",
            "173/173 [==============================] - 15s 45ms/step - loss: 0.8713 - accuracy: 0.5014\n",
            "Run 43 : Current hparams is:  {HParam(name='num_units_1', domain=Discrete([16, 32, 64, 128]), display_name=None, description=None): 16, HParam(name='num_units_2', domain=Discrete([16, 32, 64, 128]), display_name=None, description=None): 64, HParam(name='dropout', domain=Discrete([0.1, 0.2, 0.3]), display_name=None, description=None): 0.2, HParam(name='regularization_rate', domain=Discrete([0.001, 0.01, 0.1]), display_name=None, description=None): 0.001, HParam(name='learning_rate', domain=Discrete([0.0001, 0.001]), display_name=None, description=None): 0.001}\n",
            "173/173 [==============================] - 20s 52ms/step - loss: 1.3857 - accuracy: 0.6066\n"
          ]
        }
      ]
    },
    {
      "cell_type": "code",
      "source": [
        "tensorboard --logdir=\"./logs/\""
      ],
      "metadata": {
        "id": "xhP1cBtFvXrg"
      },
      "execution_count": null,
      "outputs": []
    }
  ]
}