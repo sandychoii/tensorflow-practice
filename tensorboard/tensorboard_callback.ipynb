{
  "nbformat": 4,
  "nbformat_minor": 0,
  "metadata": {
    "colab": {
      "provenance": []
    },
    "kernelspec": {
      "name": "python3",
      "display_name": "Python 3"
    },
    "language_info": {
      "name": "python"
    }
  },
  "cells": [
    {
      "cell_type": "markdown",
      "source": [
        "## Data prep and modeling"
      ],
      "metadata": {
        "id": "XkKnTSnujVEP"
      }
    },
    {
      "cell_type": "code",
      "source": [
        "import tensorflow as tf\n",
        "import numpy as np\n",
        "import matplotlib.pyplot as plt\n",
        "import tensorflow_datasets as tfds\n",
        "\n",
        "from tensorflow.keras.models import Model\n",
        "from tensorflow.keras.layers import Layer\n",
        "from tensorflow.keras.layers import InputLayer, Conv2D, MaxPool2D, Flatten, Dense, BatchNormalization, Input, Dropout\n",
        "from tensorflow.keras.optimizers import Adam\n",
        "from tensorflow.keras.regularizers import L2\n",
        "from tensorflow.keras.losses import BinaryCrossentropy\n",
        "from tensorflow.keras.metrics import BinaryAccuracy, FalsePositives, FalseNegatives, TruePositives, TrueNegatives, Precision, Recall, AUC, binary_accuracy\n",
        "from tensorflow.keras.callbacks import LearningRateScheduler\n",
        "import sklearn\n",
        "from sklearn.metrics import confusion_matrix\n",
        "import seaborn as sns"
      ],
      "metadata": {
        "id": "kawmXadbWezl"
      },
      "execution_count": null,
      "outputs": []
    },
    {
      "cell_type": "code",
      "source": [
        "dataset, dataset_info = tfds.load('malaria', with_info=True, as_supervised=True, split=['train'], shuffle_files=True)"
      ],
      "metadata": {
        "colab": {
          "base_uri": "https://localhost:8080/",
          "height": 169,
          "referenced_widgets": [
            "fadd9b89bd0d49ffba0cc59b77fa741b",
            "dc1c8698a1ad44ca8da8d69188d9f125",
            "2a7babeb1478410fa54ca9122fe6c17a",
            "a3fa6143c9ff446692d724f024d04cda",
            "81f187e295c1461f9d467afe6b7947fa",
            "df1a514ba1374b32b52dcfe07a366712",
            "d835cc8d605148d0a010e7ba2e5810e4",
            "491c97ad7ecc44639ecc9d2f66c00645",
            "6c35dbf2bae64a9aa0ba2664a1e503a4",
            "e47eb37ce1fa4ebfaee4b0fc2b4a5597",
            "002e393b47f8433694eabe7cb2e379d5",
            "1f51f2e844504e048a2ab972c8fe61f7",
            "64f95c406fd4452c998704afa32fb4e6",
            "ebc76d52e73d49ae854101d90233b1d2",
            "281f3dece7284c4f89e0bea2b6da708b",
            "a1d023fae8ba482788d27956a1eb5391",
            "5d3eec95d4a745f7b2b7606b2a7e1cbd",
            "be8a3ac2d1ae4ceda7a94b4a0665568b",
            "e681567e675e436fb4da152c0f9eef05",
            "077568fc44514062898be7a8e4a31322",
            "f3e7f5007ad8468884b80816dd1040cd",
            "36c1e1fd928c47d1b992eb9907fe87bb",
            "1175d79157b947a1b9d9fa2fe5e9a0c6",
            "aca157288ab5414b88ea29644edbe225",
            "8b0d4f888ae74add9c72b12cc614d7cb",
            "df16aaef08c84931973a7619be5cb1e8",
            "bea93a0de7ef48cf9762c90264350b02",
            "b14665d4c57b4f11a77f9bee96168898",
            "dc6a40ada8ca46da91c70584c62fb990",
            "65245a1937d04e09a0efd1b3bec1236e",
            "949671a70be9403f860ca7d7d9ed44a1",
            "b7c11e8ac86b4e23aae9f08feb359cf5",
            "27faf12dd0e5413dac79036f57aa9a55",
            "5a7a1def07494fc7bb1e80cc35868c36",
            "265a780b28c44f7a81d8eefa4d77bda9",
            "135205dc1a374d1da65b263031aa3c59",
            "46b36f40a1a74b52916c739e9682a679",
            "ed8a01c2fadf47b69545451b6cfa4836",
            "b18b4805d7cc4694accbea4584843566",
            "e0fe08edd38049de86fe8a41e6bc07b6",
            "486e8337630a4b0f8c81a78f6e487c51",
            "482bab28624647ed927d0507cb8d434f",
            "a90ab0812eea481c8c5656f1b0436694",
            "e85dc26b74b54b3098a92b03c91c4d6a",
            "ae6019cf09f044449529839de1fd8ef2",
            "54f1a80795ed45a3b3b8b67a1ddc35cd",
            "6d88574f805648fda38cf2377477d99c",
            "b4a817779e8c4d1eab52d7aaf60e6655",
            "41a82a9f8e574598a67699aa86c2eba2",
            "bba632e037c34d9ba85a0348fdf5444b",
            "7127cbb5cdb14511aafb45f16f5c4d22",
            "93e02920a5db4a7195b66c60bf2c43d3",
            "3c92e3fb3aa74fb793d66dbc756d7da8",
            "7783f7795b2d4e3fa9e737e70262a8b9",
            "d9f02583d0304cb6a12dd8d58a54876d",
            "c235e1d1807a4328846b780c9ad1c2bc",
            "c6cb0e59f3b14b19b061d231c5d5732f",
            "253fcbcb99d44093bd37497604e7953a",
            "6c7c9542e49c4bf68055f1aa61522dc9",
            "7d5fec512b7f48c2b26b6f7b34365696",
            "a3db326baf2a446c92b6a3e9c9040b6e",
            "c8f77cae62474d648c65a8df1fc10d01",
            "3ee079eb8b764b56844b50375f967016",
            "1a2fa4d914b540c086a54bf4034960a0",
            "825d841c418d419d8eeafed03eeb30b7",
            "3f0cf43ebf944dd3a88d595b46b9bdf7"
          ]
        },
        "id": "RFhS0ClXgD99",
        "outputId": "8cd30dd8-dd25-41d7-b237-3f394a0f7170"
      },
      "execution_count": null,
      "outputs": [
        {
          "output_type": "stream",
          "name": "stdout",
          "text": [
            "Downloading and preparing dataset 337.08 MiB (download: 337.08 MiB, generated: Unknown size, total: 337.08 MiB) to /root/tensorflow_datasets/malaria/1.0.0...\n"
          ]
        },
        {
          "output_type": "display_data",
          "data": {
            "text/plain": [
              "Dl Completed...: 0 url [00:00, ? url/s]"
            ],
            "application/vnd.jupyter.widget-view+json": {
              "version_major": 2,
              "version_minor": 0,
              "model_id": "fadd9b89bd0d49ffba0cc59b77fa741b"
            }
          },
          "metadata": {}
        },
        {
          "output_type": "display_data",
          "data": {
            "text/plain": [
              "Dl Size...: 0 MiB [00:00, ? MiB/s]"
            ],
            "application/vnd.jupyter.widget-view+json": {
              "version_major": 2,
              "version_minor": 0,
              "model_id": "1f51f2e844504e048a2ab972c8fe61f7"
            }
          },
          "metadata": {}
        },
        {
          "output_type": "display_data",
          "data": {
            "text/plain": [
              "Extraction completed...: 0 file [00:00, ? file/s]"
            ],
            "application/vnd.jupyter.widget-view+json": {
              "version_major": 2,
              "version_minor": 0,
              "model_id": "1175d79157b947a1b9d9fa2fe5e9a0c6"
            }
          },
          "metadata": {}
        },
        {
          "output_type": "display_data",
          "data": {
            "text/plain": [
              "Generating splits...:   0%|          | 0/1 [00:00<?, ? splits/s]"
            ],
            "application/vnd.jupyter.widget-view+json": {
              "version_major": 2,
              "version_minor": 0,
              "model_id": "5a7a1def07494fc7bb1e80cc35868c36"
            }
          },
          "metadata": {}
        },
        {
          "output_type": "display_data",
          "data": {
            "text/plain": [
              "Generating train examples...:   0%|          | 0/27558 [00:00<?, ? examples/s]"
            ],
            "application/vnd.jupyter.widget-view+json": {
              "version_major": 2,
              "version_minor": 0,
              "model_id": "ae6019cf09f044449529839de1fd8ef2"
            }
          },
          "metadata": {}
        },
        {
          "output_type": "display_data",
          "data": {
            "text/plain": [
              "Shuffling /root/tensorflow_datasets/malaria/1.0.0.incomplete1SA9GZ/malaria-train.tfrecord*...:   0%|          …"
            ],
            "application/vnd.jupyter.widget-view+json": {
              "version_major": 2,
              "version_minor": 0,
              "model_id": "c235e1d1807a4328846b780c9ad1c2bc"
            }
          },
          "metadata": {}
        },
        {
          "output_type": "stream",
          "name": "stdout",
          "text": [
            "Dataset malaria downloaded and prepared to /root/tensorflow_datasets/malaria/1.0.0. Subsequent calls will reuse this data.\n"
          ]
        }
      ]
    },
    {
      "cell_type": "code",
      "source": [
        "TRAIN_RATIO = 0.6\n",
        "VAL_RATIO = 0.2\n",
        "TEST_RATIO = 0.2\n",
        "DATASET_SIZE = len(dataset[0])\n",
        "\n",
        "def splits(dataset, TRAIN_RATIO, VAL_RATIO, TEST_RATIO):\n",
        "  train_dataset = dataset.take(int(TRAIN_RATIO*DATASET_SIZE))\n",
        "\n",
        "  val_test_dataset = dataset.skip(int(TRAIN_RATIO*DATASET_SIZE))\n",
        "  val_dataset = val_test_dataset.take(int(VAL_RATIO*DATASET_SIZE))\n",
        "\n",
        "  test_dataset = val_test_dataset.skip(int(VAL_RATIO*DATASET_SIZE))\n",
        "  return train_dataset, val_dataset, test_dataset\n",
        "\n",
        "train_dataset, val_dataset, test_dataset = splits(dataset[0], TRAIN_RATIO, VAL_RATIO, TEST_RATIO)\n",
        "\n",
        "IM_SIZE = 224\n",
        "\n",
        "def resize_rescale(image, label):\n",
        "  return tf.image.resize(image, (IM_SIZE, IM_SIZE))/255.0, label\n",
        "\n",
        "train_dataset = train_dataset.map(resize_rescale)\n",
        "val_dataset = val_dataset.map(resize_rescale)\n",
        "test_dataset = test_dataset.map(resize_rescale)\n",
        "\n",
        "BATCH_SIZE = 32\n",
        "train_dataset = train_dataset.shuffle(buffer_size=8, reshuffle_each_iteration=True).batch(BATCH_SIZE).prefetch(tf.data.AUTOTUNE)\n",
        "val_dataset = val_dataset.shuffle(buffer_size=8).batch(BATCH_SIZE)\n",
        "# test_dataset = test_dataset.shuffle(buffer_size=8).batch(BATCH_SIZE)"
      ],
      "metadata": {
        "id": "3mVHbqvjWinU"
      },
      "execution_count": null,
      "outputs": []
    },
    {
      "cell_type": "code",
      "source": [
        "dropout_rate = 0.2\n",
        "regularization_rate = 0.01\n",
        "\n",
        "model = tf.keras.Sequential([InputLayer(input_shape=(IM_SIZE, IM_SIZE, 3)),\n",
        "\n",
        "                             Conv2D(filters=6, kernel_size=3, strides=1, padding='valid', activation='relu', kernel_regularizer=L2(regularization_rate)),\n",
        "                             BatchNormalization(),\n",
        "                             MaxPool2D(pool_size=2, strides=2),\n",
        "                             Dropout(rate=dropout_rate),\n",
        "\n",
        "                             Conv2D(filters=16, kernel_size=3, strides=1, padding='valid', activation='relu', kernel_regularizer=L2(regularization_rate)),\n",
        "                             BatchNormalization(),\n",
        "                             MaxPool2D(pool_size=2, strides=2),\n",
        "\n",
        "                             Flatten(),\n",
        "\n",
        "                             Dense(100, activation='sigmoid', kernel_regularizer=L2(regularization_rate)), #\n",
        "                             BatchNormalization(),\n",
        "                             Dropout(rate=dropout_rate),\n",
        "\n",
        "                             Dense(10, activation='sigmoid', kernel_regularizer=L2(regularization_rate)),\n",
        "                             BatchNormalization(),\n",
        "                             Dense(1, activation='sigmoid')]) # 0 or 1\n",
        "print(model.summary())"
      ],
      "metadata": {
        "colab": {
          "base_uri": "https://localhost:8080/"
        },
        "id": "rbWdiEJeWnoY",
        "outputId": "3bc14bd9-d975-4717-b24d-e3522d2c5bce"
      },
      "execution_count": null,
      "outputs": [
        {
          "output_type": "stream",
          "name": "stdout",
          "text": [
            "Model: \"sequential\"\n",
            "_________________________________________________________________\n",
            " Layer (type)                Output Shape              Param #   \n",
            "=================================================================\n",
            " conv2d (Conv2D)             (None, 222, 222, 6)       168       \n",
            "                                                                 \n",
            " batch_normalization (BatchN  (None, 222, 222, 6)      24        \n",
            " ormalization)                                                   \n",
            "                                                                 \n",
            " max_pooling2d (MaxPooling2D  (None, 111, 111, 6)      0         \n",
            " )                                                               \n",
            "                                                                 \n",
            " dropout (Dropout)           (None, 111, 111, 6)       0         \n",
            "                                                                 \n",
            " conv2d_1 (Conv2D)           (None, 109, 109, 16)      880       \n",
            "                                                                 \n",
            " batch_normalization_1 (Batc  (None, 109, 109, 16)     64        \n",
            " hNormalization)                                                 \n",
            "                                                                 \n",
            " max_pooling2d_1 (MaxPooling  (None, 54, 54, 16)       0         \n",
            " 2D)                                                             \n",
            "                                                                 \n",
            " flatten (Flatten)           (None, 46656)             0         \n",
            "                                                                 \n",
            " dense (Dense)               (None, 100)               4665700   \n",
            "                                                                 \n",
            " batch_normalization_2 (Batc  (None, 100)              400       \n",
            " hNormalization)                                                 \n",
            "                                                                 \n",
            " dropout_1 (Dropout)         (None, 100)               0         \n",
            "                                                                 \n",
            " dense_1 (Dense)             (None, 10)                1010      \n",
            "                                                                 \n",
            " batch_normalization_3 (Batc  (None, 10)               40        \n",
            " hNormalization)                                                 \n",
            "                                                                 \n",
            " dense_2 (Dense)             (None, 1)                 11        \n",
            "                                                                 \n",
            "=================================================================\n",
            "Total params: 4,668,297\n",
            "Trainable params: 4,668,033\n",
            "Non-trainable params: 264\n",
            "_________________________________________________________________\n",
            "None\n"
          ]
        }
      ]
    },
    {
      "cell_type": "markdown",
      "source": [
        "## Tensorboard Callback\n",
        "\n",
        "https://www.tensorflow.org/api_docs/python/tf/keras/callbacks/TensorBoard"
      ],
      "metadata": {
        "id": "X7Bwpw1BHNIY"
      }
    },
    {
      "cell_type": "code",
      "execution_count": null,
      "metadata": {
        "id": "Mpb0Ii0eHHjz"
      },
      "outputs": [],
      "source": [
        "tensorboard_callback = tf.keras.callbacks.TensorBoard(log_dir=\"./logs\")\n",
        "model.fit(x_train, y_train, epochs=2, callbacks=[tensorboard_callback])"
      ]
    }
  ]
}